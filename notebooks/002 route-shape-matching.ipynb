{
 "cells": [
  {
   "cell_type": "markdown",
   "id": "a054a87f-1989-4d7c-8c2d-3614828572a4",
   "metadata": {
    "tags": []
   },
   "source": [
    "## Route shape matching\n",
    "### Packages\n",
    "\n",
    "- Import standard Python packages.\n",
    "- Import local modules for route shape matching."
   ]
  },
  {
   "cell_type": "code",
   "execution_count": 1,
   "id": "79b1a527-3794-4139-9df3-a5ed43812332",
   "metadata": {
    "execution": {
     "iopub.execute_input": "2022-01-12T05:04:11.685392Z",
     "iopub.status.busy": "2022-01-12T05:04:11.685392Z",
     "iopub.status.idle": "2022-01-12T05:04:15.189414Z",
     "shell.execute_reply": "2022-01-12T05:04:15.188416Z",
     "shell.execute_reply.started": "2022-01-12T05:04:11.685392Z"
    },
    "tags": []
   },
   "outputs": [
    {
     "name": "stderr",
     "output_type": "stream",
     "text": [
      "2022-01-11 23:04:15 INFO: WMATA Route Shape Matching.\n"
     ]
    }
   ],
   "source": [
    "# Import standard packages\n",
    "import os\n",
    "import sys\n",
    "import pandas as pd\n",
    "import geopandas as gpd\n",
    "import osmnx as ox\n",
    "from shapely.geometry import LineString\n",
    "import numpy as np\n",
    "import networkx as nx\n",
    "import warnings\n",
    "warnings.filterwarnings('ignore')\n",
    "\n",
    "# Import local module\n",
    "sys.path.append('../src/')\n",
    "import route_shape_matching.rm_utilities as rmu"
   ]
  },
  {
   "cell_type": "markdown",
   "id": "54fc322f-bb59-4f14-92bd-72848b7b3dea",
   "metadata": {},
   "source": [
    "### Directory & Parameters\n",
    "- Set directory to read the geospatial files.\n",
    "- Set or import parameters from local modules such as coordinate reference system. "
   ]
  },
  {
   "cell_type": "code",
   "execution_count": 2,
   "id": "c48597ad-a570-462d-b6cf-af50f043f553",
   "metadata": {
    "execution": {
     "iopub.execute_input": "2022-01-12T05:04:15.192417Z",
     "iopub.status.busy": "2022-01-12T05:04:15.191414Z",
     "iopub.status.idle": "2022-01-12T05:04:15.205415Z",
     "shell.execute_reply": "2022-01-12T05:04:15.204415Z",
     "shell.execute_reply.started": "2022-01-12T05:04:15.192417Z"
    },
    "tags": []
   },
   "outputs": [],
   "source": [
    "# Directory\n",
    "data_dir = os.path.normpath(r'..\\\\data')\n",
    "os.makedirs(os.path.join(data_dir, 'processed', 'route_shapes'), exist_ok = True)\n",
    "output_dir = os.path.join(data_dir, 'processed', 'route_shapes')\n",
    "\n",
    "# Parameters\n",
    "CRS = rmu.CRS\n",
    "CRS_METER = rmu.CRS_METER\n",
    "\n",
    "# GIS route line geometries \n",
    "gis_lines_geojson = os.path.join(data_dir,\n",
    "                                 'external',\n",
    "                                 'gis_bsrt_line',\n",
    "                                 'gis_bsrt_line.geojson')\n",
    "\n",
    "gtfs_shapes_text = os.path.join(data_dir,\n",
    "                                'external',\n",
    "                                'gtfs_20210903',\n",
    "                                'shapes.txt')\n",
    "\n",
    "stop_seq_csv = os.path.join(data_dir, \n",
    "                            'external', \n",
    "                            'stop_sequence', \n",
    "                            'bus_net_stop_sequence.csv')"
   ]
  },
  {
   "cell_type": "markdown",
   "id": "0ba889a6-331b-4729-ae26-af64f5b1a979",
   "metadata": {},
   "source": [
    "### Read OSM data\n",
    "- Read OSM network as graph object.\n",
    "- Extract edges and nodes with their spatial indexes for faster queries."
   ]
  },
  {
   "cell_type": "code",
   "execution_count": 3,
   "id": "f767cedf-cc1c-4bd7-807a-4e51419ba411",
   "metadata": {
    "execution": {
     "iopub.execute_input": "2022-01-12T05:04:15.206416Z",
     "iopub.status.busy": "2022-01-12T05:04:15.206416Z",
     "iopub.status.idle": "2022-01-12T05:06:56.111120Z",
     "shell.execute_reply": "2022-01-12T05:06:56.111120Z",
     "shell.execute_reply.started": "2022-01-12T05:04:15.206416Z"
    },
    "tags": []
   },
   "outputs": [
    {
     "name": "stderr",
     "output_type": "stream",
     "text": [
      "2022-01-11 23:05:58 INFO: OSM graph converted to nodes (333,606) and edges (824,767) GeoDataFrames.\n",
      "2022-01-11 23:06:53 INFO: Spatial indexes returned for 333,606 nodes and 824,767 edges.\n"
     ]
    }
   ],
   "source": [
    "G = ox.load_graphml(os.path.join(data_dir,\n",
    "                                 'processed',\n",
    "                                 'osm_graph', \n",
    "                                 '20220104_osm_graph.graphml'))\n",
    "\n",
    "# Nodes and edges and their spatial indexes from graph\n",
    "# Nodes and edges from graph\n",
    "nodes, edges, node_sindex, edge_sindex = rmu.get_graph_nodes_edges_sindex(G)"
   ]
  },
  {
   "cell_type": "markdown",
   "id": "9c8abf99-e16f-45a9-8880-bc25a6ec4263",
   "metadata": {},
   "source": [
    "### Read data\n",
    "- Read all GIS route lines.\n",
    "- Read all GTFS shapes.\n",
    "- Read all stop sequences."
   ]
  },
  {
   "cell_type": "code",
   "execution_count": 4,
   "id": "bd7b7560-aff6-4b27-91db-4b2c13dcbdeb",
   "metadata": {
    "execution": {
     "iopub.execute_input": "2022-01-12T05:06:56.113185Z",
     "iopub.status.busy": "2022-01-12T05:06:56.113185Z",
     "iopub.status.idle": "2022-01-12T05:07:37.765813Z",
     "shell.execute_reply": "2022-01-12T05:07:37.765813Z",
     "shell.execute_reply.started": "2022-01-12T05:06:56.113185Z"
    },
    "tags": []
   },
   "outputs": [
    {
     "name": "stderr",
     "output_type": "stream",
     "text": [
      "2022-01-11 23:07:18 INFO: Route line geometries returned for 1,147 unique route patterns.\n",
      "2022-01-11 23:07:36 INFO: Route shape geometries returned for 558 route patterns with 640,442 points.\n",
      "2022-01-11 23:07:36 INFO: Stop sequences returned for 1,748 route patterns.\n"
     ]
    }
   ],
   "source": [
    "gis_routes = rmu.read_all_gis_route_lines(gis_lines_geojson, CRS)\n",
    "all_shapes = rmu.read_gtfs_shapes(gtfs_shapes_text, CRS)\n",
    "all_stop_seq = rmu.read_all_routes_stop_sequences(stop_seq_csv, CRS)"
   ]
  },
  {
   "cell_type": "markdown",
   "id": "57b9057f-a53e-4b04-96d2-c59b189d6113",
   "metadata": {},
   "source": [
    "### Selection parameter"
   ]
  },
  {
   "cell_type": "code",
   "execution_count": 5,
   "id": "13d949af-1fa0-4eb2-9fb0-8e467292ec25",
   "metadata": {
    "execution": {
     "iopub.execute_input": "2022-01-12T05:07:37.765813Z",
     "iopub.status.busy": "2022-01-12T05:07:37.765813Z",
     "iopub.status.idle": "2022-01-12T05:07:37.782375Z",
     "shell.execute_reply": "2022-01-12T05:07:37.781372Z",
     "shell.execute_reply.started": "2022-01-12T05:07:37.765813Z"
    },
    "tags": []
   },
   "outputs": [],
   "source": [
    "route_pattern_id = 'G801'\n",
    "query_month = 20210903"
   ]
  },
  {
   "cell_type": "markdown",
   "id": "10fad747-a251-4fdf-a325-afa9f40a5e2d",
   "metadata": {},
   "source": [
    "### Select data for candidate route pattern\n",
    "- Select GIS route line and GTFS shape points for candidate route pattern.\n",
    "- Create a line geometry connecting the shape points."
   ]
  },
  {
   "cell_type": "code",
   "execution_count": 6,
   "id": "23be74e2-bbe6-455f-8393-16787a7510fd",
   "metadata": {
    "execution": {
     "iopub.execute_input": "2022-01-12T05:07:37.785376Z",
     "iopub.status.busy": "2022-01-12T05:07:37.785376Z",
     "iopub.status.idle": "2022-01-12T05:07:37.924373Z",
     "shell.execute_reply": "2022-01-12T05:07:37.923372Z",
     "shell.execute_reply.started": "2022-01-12T05:07:37.785376Z"
    },
    "tags": []
   },
   "outputs": [
    {
     "name": "stderr",
     "output_type": "stream",
     "text": [
      "2022-01-11 23:07:37 INFO: Route line geometries returned for G801.\n",
      "2022-01-11 23:07:37 INFO: Route shape geometries returned for G801 with 879 points.\n",
      "2022-01-11 23:07:37 INFO: Route line geometries returned for G801 using 879 points.\n",
      "2022-01-11 23:07:37 INFO: Stop sequences returned for G801 with 44 stops.\n"
     ]
    }
   ],
   "source": [
    "gis_route = rmu.get_single_gis_route_line(gis_routes, route_pattern_id, query_month)\n",
    "shapes = rmu.get_single_route_gtfs_shapes(all_shapes, route_pattern_id)\n",
    "shapes_line = rmu.get_line_geom_from_shapes(shapes, crs = CRS)\n",
    "route_stop_seq = rmu.get_single_route_stop_sequences(all_stop_seq, route_pattern_id)"
   ]
  },
  {
   "cell_type": "markdown",
   "id": "335872ac-3661-450a-8753-207c16529ecb",
   "metadata": {},
   "source": [
    "### Create route buffer\n",
    "- Create a 25 meters buffer around the route line (both GTFS shapes and GIS line).\n",
    "- Union both buffers to create more accurate clipper for OSM edges."
   ]
  },
  {
   "cell_type": "code",
   "execution_count": 7,
   "id": "f0ca6612-8929-4ddf-96f8-adc6542f0f4b",
   "metadata": {
    "execution": {
     "iopub.execute_input": "2022-01-12T05:07:37.925373Z",
     "iopub.status.busy": "2022-01-12T05:07:37.924373Z",
     "iopub.status.idle": "2022-01-12T05:07:38.161203Z",
     "shell.execute_reply": "2022-01-12T05:07:38.161203Z",
     "shell.execute_reply.started": "2022-01-12T05:07:37.925373Z"
    },
    "tags": []
   },
   "outputs": [
    {
     "name": "stderr",
     "output_type": "stream",
     "text": [
      "2022-01-11 23:07:38 INFO: Route buffer geometry created.\n"
     ]
    }
   ],
   "source": [
    "# Create buffers for GTFS lines and GIS lines\n",
    "shapes_line_buffer = rmu.create_buffer(shapes_line, \n",
    "                                       buffer_in_meter = 25, \n",
    "                                       output_crs = CRS, \n",
    "                                       sort_columns = ['shape_id'])\n",
    "\n",
    "gis_route_buffer = rmu.create_buffer(gis_route, \n",
    "                                     buffer_in_meter = 25, \n",
    "                                     output_crs = CRS, \n",
    "                                     sort_columns = ['shape_id'])[['shape_id', 'geometry']]\n",
    "buffer_geom = rmu.create_union_of_buffer_geom(shapes_line_buffer, gis_route_buffer, only_geom = True)"
   ]
  },
  {
   "cell_type": "markdown",
   "id": "6378cc55-be5e-4cd8-8ed7-2a2dc960f88e",
   "metadata": {},
   "source": [
    "### Create hardclipped graph and return edges\n",
    "- Select nodes inside the buffer.\n",
    "- Create a subgraph using the select nodes.\n",
    "- Get edges of the subgraph.\n",
    "- Clip the edges by route buffer geometry.\n",
    "- Select candidate edges comparing the clipped length to actual length.\n",
    "- Add the nearest edges to start and end point of the route.\n",
    "- Create the largest connected graph with the final candidate edge list."
   ]
  },
  {
   "cell_type": "code",
   "execution_count": 8,
   "id": "da3e2f93-8cc0-4755-a073-dc805f88b3c4",
   "metadata": {
    "execution": {
     "iopub.execute_input": "2022-01-12T05:07:38.162203Z",
     "iopub.status.busy": "2022-01-12T05:07:38.162203Z",
     "iopub.status.idle": "2022-01-12T05:08:30.574462Z",
     "shell.execute_reply": "2022-01-12T05:08:30.573461Z",
     "shell.execute_reply.started": "2022-01-12T05:07:38.162203Z"
    },
    "tags": []
   },
   "outputs": [
    {
     "name": "stderr",
     "output_type": "stream",
     "text": [
      "2022-01-11 23:08:28 INFO: 814 edges (of 824,767 total edges) found inside the buffer.\n",
      "2022-01-11 23:08:28 INFO: 439 nodes returned.\n",
      "2022-01-11 23:08:30 INFO: OSM graph converted to nodes (197) and edges (352) GeoDataFrames.\n",
      "2022-01-11 23:08:30 INFO: 352 edges returned after final clipping.\n"
     ]
    }
   ],
   "source": [
    "g_h, ge_h = rmu.get_hardclipped_edges(G, shapes, edges, buffer_geom, return_nodes=False)"
   ]
  },
  {
   "cell_type": "markdown",
   "id": "c20f1112-f5d2-4f8f-a266-5235fd7a81d6",
   "metadata": {},
   "source": [
    "### Process shape points\n",
    "- Using the subgraph, find the nearest edge to the start and end point of each shape-shape pair.\n",
    "- Correct orientation of returned nearest edges using bearing values.\n",
    "- Get the shortest path for each shape-shape in sequential order and keep unique segments.\n",
    "- Get the nodes in correct order using forward search method.\n",
    "- Construct the route path.\n",
    "- Merge stop sequences.\n",
    "- Create new columns.\n",
    "- Do final processing and export."
   ]
  },
  {
   "cell_type": "code",
   "execution_count": 9,
   "id": "9d9c5545-7275-4770-a09d-648683854b8d",
   "metadata": {
    "execution": {
     "iopub.execute_input": "2022-01-12T05:08:30.575460Z",
     "iopub.status.busy": "2022-01-12T05:08:30.575460Z",
     "iopub.status.idle": "2022-01-12T05:08:59.880958Z",
     "shell.execute_reply": "2022-01-12T05:08:59.879926Z",
     "shell.execute_reply.started": "2022-01-12T05:08:30.575460Z"
    },
    "tags": []
   },
   "outputs": [
    {
     "name": "stderr",
     "output_type": "stream",
     "text": [
      "2022-01-11 23:08:59 INFO: Orientation for origin edge corrected for 927 shape-shape pairs.\n",
      "2022-01-11 23:08:59 INFO: Orientation for destination edge corrected for 1,111 shape-shape pairs.\n",
      "2022-01-11 23:08:59 INFO: Route path constructed with 159 edges.\n",
      "2022-01-11 23:08:59 INFO: 44 stops merged with route edges.\n",
      "2022-01-11 23:08:59 INFO: Final processing completed. 159 matched route edges returned.\n",
      "2022-01-11 23:08:59 WARNING: Route path contains repeated edges. Expected 157, returned 159.\n",
      "2022-01-11 23:08:59 WARNING: 2 edges have repetitions. Edges are ['49730804-49730800', '49730800-49730804'].\n",
      "2022-01-11 23:08:59 INFO: G801_FINAL_BUS_NET_LINK.geojson exported to ..\\data\\processed\\route_shapes\\G801.\n"
     ]
    }
   ],
   "source": [
    "route_path = rmu.get_route_path(shapes, g_h, ge_h)\n",
    "route_path_with_stops = rmu.merge_stop_sequences(route_stop_seq, route_path)\n",
    "final_route_edges, n, repeated_edges = rmu.process_route_edges_outputs(route_path_with_stops, route_stop_seq, route_pattern_id, crs = CRS)\n",
    "rmu.export_final_network_edges(output_dir, final_route_edges, route_pattern_id, overwrite = True)"
   ]
  },
  {
   "cell_type": "code",
   "execution_count": null,
   "id": "faceec58-d4ce-4f99-b953-cf047bf06087",
   "metadata": {},
   "outputs": [],
   "source": []
  }
 ],
 "metadata": {
  "kernelspec": {
   "display_name": "Python 3 (ipykernel)",
   "language": "python",
   "name": "python3"
  },
  "language_info": {
   "codemirror_mode": {
    "name": "ipython",
    "version": 3
   },
   "file_extension": ".py",
   "mimetype": "text/x-python",
   "name": "python",
   "nbconvert_exporter": "python",
   "pygments_lexer": "ipython3",
   "version": "3.8.12"
  }
 },
 "nbformat": 4,
 "nbformat_minor": 5
}
