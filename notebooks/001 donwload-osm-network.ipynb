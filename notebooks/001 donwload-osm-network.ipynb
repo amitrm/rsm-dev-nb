{
 "cells": [
  {
   "cell_type": "markdown",
   "id": "59f8d315-b508-4951-b3db-1cfb0ae95137",
   "metadata": {
    "tags": []
   },
   "source": [
    "## Download and store OSM network data.\n",
    "### Packages\n",
    "\n",
    "- Import standard Python packages.\n",
    "- Import local modules for route shape matching."
   ]
  },
  {
   "cell_type": "code",
   "execution_count": 2,
   "id": "630da880-dc1c-47ba-9020-9bb7f72fa1ed",
   "metadata": {
    "execution": {
     "iopub.execute_input": "2022-01-11T16:08:22.619002Z",
     "iopub.status.busy": "2022-01-11T16:08:22.619002Z",
     "iopub.status.idle": "2022-01-11T16:08:25.646005Z",
     "shell.execute_reply": "2022-01-11T16:08:25.645011Z",
     "shell.execute_reply.started": "2022-01-11T16:08:22.619002Z"
    },
    "tags": []
   },
   "outputs": [],
   "source": [
    "# Import standard packages\n",
    "import os\n",
    "import sys\n",
    "\n",
    "# Import local module\n",
    "sys.path.append('../src/')\n",
    "import route_shape_matching.rm_utilities as rmu"
   ]
  },
  {
   "cell_type": "markdown",
   "id": "fe64fba1-0a16-4ef8-8f69-40b15836ee44",
   "metadata": {
    "tags": []
   },
   "source": [
    "### Directory & Parameters\n",
    "- Set directory to read the geospatial files.\n",
    "- Set or import parameters from local modules such as coordinate reference system. "
   ]
  },
  {
   "cell_type": "code",
   "execution_count": 3,
   "id": "371472ee-98ac-4abe-be4d-11a36c454fab",
   "metadata": {
    "execution": {
     "iopub.execute_input": "2022-01-11T16:08:25.649008Z",
     "iopub.status.busy": "2022-01-11T16:08:25.648293Z",
     "iopub.status.idle": "2022-01-11T16:08:25.661200Z",
     "shell.execute_reply": "2022-01-11T16:08:25.660173Z",
     "shell.execute_reply.started": "2022-01-11T16:08:25.649008Z"
    },
    "tags": []
   },
   "outputs": [],
   "source": [
    "# Directory\n",
    "data_dir = os.path.normpath(r'..\\\\data')\n",
    "os.makedirs(os.path.join(data_dir, 'processed', 'osm_graph'), exist_ok = True)\n",
    "output_dir = os.path.join(data_dir, 'processed', 'osm_graph')\n",
    "\n",
    "# Parameters\n",
    "CRS = rmu.CRS\n",
    "CRS_METER = rmu.CRS_METER\n",
    "\n",
    "# GIS route line geometries \n",
    "gis_lines_geojson = os.path.join(data_dir,\n",
    "                                 'external',\n",
    "                                 'gis_bsrt_line',\n",
    "                                 'gis_bsrt_line.geojson')"
   ]
  },
  {
   "cell_type": "markdown",
   "id": "73d41c6a-ee6b-4279-9ff0-436a2aa93e4d",
   "metadata": {},
   "source": [
    "### Read data\n",
    "\n",
    "This data should have the geometries for the universal set of routes for which we want to extract the OSM network."
   ]
  },
  {
   "cell_type": "code",
   "execution_count": 3,
   "id": "976e15fc-c0dd-42ed-a51c-bc3bf3b706fc",
   "metadata": {
    "execution": {
     "iopub.execute_input": "2022-01-04T20:49:22.421419Z",
     "iopub.status.busy": "2022-01-04T20:49:22.421419Z",
     "iopub.status.idle": "2022-01-04T20:49:44.034202Z",
     "shell.execute_reply": "2022-01-04T20:49:44.034202Z",
     "shell.execute_reply.started": "2022-01-04T20:49:22.421419Z"
    },
    "tags": []
   },
   "outputs": [],
   "source": [
    "gis_routes = rmu.read_all_gis_route_lines(gis_lines_geojson, CRS)"
   ]
  },
  {
   "cell_type": "markdown",
   "id": "ca38b256-3390-4b21-8a67-10a6fa1714f4",
   "metadata": {},
   "source": [
    "### Create unified polygon\n",
    "- Use a GeoDataFrame to create the boundary of a unified polygon. \n",
    "- Define a buffer threshold to include additional area around the actual boundary to capture nearly connected nodes in the street network. "
   ]
  },
  {
   "cell_type": "code",
   "execution_count": 4,
   "id": "54e3fa9e-1625-4ca2-aff2-7fc42e027e07",
   "metadata": {
    "execution": {
     "iopub.execute_input": "2022-01-04T20:49:44.036242Z",
     "iopub.status.busy": "2022-01-04T20:49:44.036242Z",
     "iopub.status.idle": "2022-01-04T20:49:45.581434Z",
     "shell.execute_reply": "2022-01-04T20:49:45.581434Z",
     "shell.execute_reply.started": "2022-01-04T20:49:44.036242Z"
    },
    "tags": []
   },
   "outputs": [],
   "source": [
    "polygon_geometry = rmu.get_unified_polygon(gis_routes, CRS, buffer_threshold = 0.005)"
   ]
  },
  {
   "cell_type": "markdown",
   "id": "e3abc5e9-9ed1-45f7-a617-73a69ab5d876",
   "metadata": {},
   "source": [
    "### Download OSM data\n",
    "- Run this function to download and create a graph object for the given boundary. \n",
    "- The function downloads the filtered network excluding some link types that are not valid for transit route shape matching.\n",
    "- If some parts of the data or the entire data are available in the cache from a previous query, the function reads the data from that cache folder bypassing the download step.\n",
    "- By default, this function prints logs in the console. However, this can be controled using the `log_console` argument.\n",
    "- Using the cache, it takes ~ 7 mins to create and simplyfy the graph. Downloading will take additional time and it may vary as the API requests are sent at random interval to avoid overflow. "
   ]
  },
  {
   "cell_type": "code",
   "execution_count": 5,
   "id": "2d9c633f-f3a8-4244-8236-d6e044dd91aa",
   "metadata": {
    "execution": {
     "iopub.execute_input": "2022-01-04T20:49:45.583584Z",
     "iopub.status.busy": "2022-01-04T20:49:45.583584Z",
     "iopub.status.idle": "2022-01-04T20:56:28.976639Z",
     "shell.execute_reply": "2022-01-04T20:56:28.974631Z",
     "shell.execute_reply.started": "2022-01-04T20:49:45.583584Z"
    },
    "tags": []
   },
   "outputs": [],
   "source": [
    "G = rmu.download_osm_for_transit(polygon_geometry, log_console = True)"
   ]
  },
  {
   "cell_type": "markdown",
   "id": "a50a222b-b22b-4b7d-b685-5115b63d7b80",
   "metadata": {},
   "source": [
    "### Export OSM Graph and Shapefiles\n",
    "- Export the graph object of OSM street network in `.graphml` format.\n",
    "- If `export_nodes` or `export_edges` is set to `True`, the function also exports relevant GeoDataFrames in `.geojson` format. \n",
    "- It usually takes 6 mins to export all files."
   ]
  },
  {
   "cell_type": "code",
   "execution_count": 7,
   "id": "a5951c5f-5816-471e-84b4-0032fcea766b",
   "metadata": {
    "execution": {
     "iopub.execute_input": "2022-01-04T21:12:06.899304Z",
     "iopub.status.busy": "2022-01-04T21:12:06.899304Z",
     "iopub.status.idle": "2022-01-04T21:17:34.824804Z",
     "shell.execute_reply": "2022-01-04T21:17:34.824804Z",
     "shell.execute_reply.started": "2022-01-04T21:12:06.899304Z"
    },
    "tags": []
   },
   "outputs": [],
   "source": [
    "rmu.export_osm_graph_shapefiles(graph_obj = G, \n",
    "                                output_path = output_dir, \n",
    "                                export_nodes = True, \n",
    "                                export_edges = True)"
   ]
  }
 ],
 "metadata": {
  "kernelspec": {
   "display_name": "Python 3 (ipykernel)",
   "language": "python",
   "name": "python3"
  },
  "language_info": {
   "codemirror_mode": {
    "name": "ipython",
    "version": 3
   },
   "file_extension": ".py",
   "mimetype": "text/x-python",
   "name": "python",
   "nbconvert_exporter": "python",
   "pygments_lexer": "ipython3",
   "version": "3.8.12"
  }
 },
 "nbformat": 4,
 "nbformat_minor": 5
}
