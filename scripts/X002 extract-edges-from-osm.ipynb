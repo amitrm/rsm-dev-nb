{
 "cells": [
  {
   "cell_type": "markdown",
   "id": "1350ba79-f67e-4a16-984d-29ada3d3e1dc",
   "metadata": {
    "execution": {
     "iopub.execute_input": "2022-01-04T22:56:03.283535Z",
     "iopub.status.busy": "2022-01-04T22:56:03.283535Z",
     "iopub.status.idle": "2022-01-04T22:56:03.297432Z",
     "shell.execute_reply": "2022-01-04T22:56:03.296430Z",
     "shell.execute_reply.started": "2022-01-04T22:56:03.283535Z"
    },
    "tags": []
   },
   "source": [
    "### Packages"
   ]
  },
  {
   "cell_type": "code",
   "execution_count": 20,
   "id": "c9f4b4a1-a4ae-433b-88e2-65f6c326d754",
   "metadata": {
    "execution": {
     "iopub.execute_input": "2022-01-05T17:02:10.337109Z",
     "iopub.status.busy": "2022-01-05T17:02:10.337109Z",
     "iopub.status.idle": "2022-01-05T17:02:10.350096Z",
     "shell.execute_reply": "2022-01-05T17:02:10.348984Z",
     "shell.execute_reply.started": "2022-01-05T17:02:10.337109Z"
    },
    "tags": []
   },
   "outputs": [
    {
     "name": "stdout",
     "output_type": "stream",
     "text": [
      "OSM Version : 1.1.2\n"
     ]
    }
   ],
   "source": [
    "import pandas as pd\n",
    "import geopandas as gpd\n",
    "import os\n",
    "import numpy as np\n",
    "import matplotlib.pyplot as plt\n",
    "import warnings\n",
    "import logging\n",
    "import networkx as nx\n",
    "import osmnx as ox\n",
    "from shapely.geometry import Point, Polygon, box, LineString\n",
    "from shapely import ops\n",
    "import folium\n",
    "ox.config(use_cache=True, log_console=True)\n",
    "print('OSM Version : {}'.format(ox.__version__))\n",
    "\n",
    "%matplotlib widget\n",
    "\n",
    "pd.options.display.max_columns = None\n",
    "pd.options.display.max_rows = 100\n",
    "warnings.filterwarnings('ignore')"
   ]
  },
  {
   "cell_type": "markdown",
   "id": "7f082627-53c8-41b3-8c52-c0407ecaa2d8",
   "metadata": {
    "execution": {
     "iopub.execute_input": "2022-01-04T22:56:03.283535Z",
     "iopub.status.busy": "2022-01-04T22:56:03.283535Z",
     "iopub.status.idle": "2022-01-04T22:56:03.297432Z",
     "shell.execute_reply": "2022-01-04T22:56:03.296430Z",
     "shell.execute_reply.started": "2022-01-04T22:56:03.283535Z"
    },
    "tags": []
   },
   "source": [
    "### Configure logger"
   ]
  },
  {
   "cell_type": "code",
   "execution_count": 2,
   "id": "05b9a577-f76a-451b-ae7c-63bbb711cd6c",
   "metadata": {
    "execution": {
     "iopub.execute_input": "2022-01-05T16:38:53.810082Z",
     "iopub.status.busy": "2022-01-05T16:38:53.810082Z",
     "iopub.status.idle": "2022-01-05T16:38:53.824089Z",
     "shell.execute_reply": "2022-01-05T16:38:53.823080Z",
     "shell.execute_reply.started": "2022-01-05T16:38:53.810082Z"
    },
    "tags": []
   },
   "outputs": [
    {
     "name": "stderr",
     "output_type": "stream",
     "text": [
      "2022-01-05 10:38:53,813: WMATA Route Shape Matching.\n"
     ]
    }
   ],
   "source": [
    "logging.basicConfig(level = logging.CRITICAL, format = \"%(asctime)s: %(message)s\")\n",
    "logger = logging.getLogger('WMATA')\n",
    "logger.setLevel(logging.INFO)\n",
    "logger.info('WMATA Route Shape Matching.')"
   ]
  },
  {
   "cell_type": "markdown",
   "id": "4325a4c4-f776-4b95-baaa-ba0586084ca0",
   "metadata": {},
   "source": [
    "### Directory and parameters"
   ]
  },
  {
   "cell_type": "code",
   "execution_count": 3,
   "id": "949ab305-83e4-492f-9499-27fd1fbea5c5",
   "metadata": {
    "execution": {
     "iopub.execute_input": "2022-01-05T16:42:10.551669Z",
     "iopub.status.busy": "2022-01-05T16:42:10.549665Z",
     "iopub.status.idle": "2022-01-05T16:42:10.556693Z",
     "shell.execute_reply": "2022-01-05T16:42:10.556693Z",
     "shell.execute_reply.started": "2022-01-05T16:42:10.550667Z"
    },
    "tags": []
   },
   "outputs": [],
   "source": [
    "# Directory\n",
    "data_dir = os.path.join('../data')\n",
    "CRS = 'EPSG:4326'\n",
    "CRS_METER = 'EPSG:3857'"
   ]
  },
  {
   "cell_type": "code",
   "execution_count": 4,
   "id": "594465b6-d77a-4dcf-b2a2-080b3e3a9d3e",
   "metadata": {
    "execution": {
     "iopub.execute_input": "2022-01-05T16:42:12.567069Z",
     "iopub.status.busy": "2022-01-05T16:42:12.567069Z",
     "iopub.status.idle": "2022-01-05T16:42:12.587630Z",
     "shell.execute_reply": "2022-01-05T16:42:12.584629Z",
     "shell.execute_reply.started": "2022-01-05T16:42:12.567069Z"
    },
    "tags": []
   },
   "outputs": [],
   "source": [
    "# File names\n",
    "gis_lines_geojson = os.path.join(data_dir,\n",
    "                                 'gis_bsrt_line',\n",
    "                                 'gis_bsrt_line.geojson')\n",
    "\n",
    "gtfs_shapes_text = os.path.join(data_dir,\n",
    "                                'gtfs_20210903',\n",
    "                                'shapes.txt')"
   ]
  },
  {
   "cell_type": "markdown",
   "id": "4cfe4787-8d98-4b14-8076-a673df9ace74",
   "metadata": {},
   "source": [
    "### Selection parameter"
   ]
  },
  {
   "cell_type": "code",
   "execution_count": 6,
   "id": "d948e045-a439-4428-93af-9372ec3650e6",
   "metadata": {
    "execution": {
     "iopub.execute_input": "2022-01-05T16:43:10.805664Z",
     "iopub.status.busy": "2022-01-05T16:43:10.805664Z",
     "iopub.status.idle": "2022-01-05T16:43:10.813666Z",
     "shell.execute_reply": "2022-01-05T16:43:10.812904Z",
     "shell.execute_reply.started": "2022-01-05T16:43:10.805664Z"
    },
    "tags": []
   },
   "outputs": [],
   "source": [
    "route_pattern_id = 'G801'\n",
    "query_month = 20210903"
   ]
  },
  {
   "cell_type": "markdown",
   "id": "34b4c245-756a-4de2-8430-4cb7706418c5",
   "metadata": {
    "tags": []
   },
   "source": [
    "### GIS bus route line"
   ]
  },
  {
   "cell_type": "code",
   "execution_count": 70,
   "id": "98fbf391-aae8-49b0-9a95-9aa40a16d7a8",
   "metadata": {
    "execution": {
     "iopub.execute_input": "2022-01-05T17:24:54.687259Z",
     "iopub.status.busy": "2022-01-05T17:24:54.687259Z",
     "iopub.status.idle": "2022-01-05T17:24:54.708164Z",
     "shell.execute_reply": "2022-01-05T17:24:54.707197Z",
     "shell.execute_reply.started": "2022-01-05T17:24:54.687259Z"
    },
    "tags": []
   },
   "outputs": [],
   "source": [
    "def read_all_gis_route_lines(gis_lines_geojson,\n",
    "                             crs):\n",
    "    \"\"\"\n",
    "    Get all GIS route line geometries in the data.\n",
    "\n",
    "    :param gis_lines_geojson: Directory of GIS bus route geojson file including file name and extension.\n",
    "    :param crs: Coordinate Reference System in \"EPSG:XXXX\" format.\n",
    "    :return: A GeoDataFrame with line geometries for all available route patterns in specified CRS.\n",
    "    \"\"\"\n",
    "\n",
    "    # Import WMATA GIS bus route line geometries\n",
    "    gis_routes = gpd.read_file(gis_lines_geojson)\n",
    "    gis_routes = gis_routes.to_crs(crs)\n",
    "    gis_routes.columns = [c.lower() if c != 'geometry' else c for c in gis_routes.columns]\n",
    "\n",
    "    # Create \"shape_id\" column\n",
    "    gis_routes['pattern_id'] = gis_routes['gis_routec'].str.split('_').str[-1]\n",
    "    gis_routes['shape_id'] = gis_routes['route'] + gis_routes['pattern_id']\n",
    "    gis_routes = gis_routes.sort_values(by='shape_id')\n",
    "\n",
    "    # Create start and end date in YYYYMM format for schedule based selection\n",
    "    gis_routes['start_date'] = gis_routes['str_date'].astype(str).str[:10].str.replace('-', '').astype(int)\n",
    "    gis_routes['end_date'] = gis_routes['end_date'].astype(str).str[:10].str.replace('-', '').astype(int)\n",
    "    logger.info(f'Route line geometries returned for {gis_routes.shape_id.nunique()} unique route patterns.')\n",
    "\n",
    "    return gis_routes.sort_values(by=['start_date'])\n",
    "\n",
    "\n",
    "def read_single_gis_route_line(gis_lines_geojson,\n",
    "                               crs,\n",
    "                               route_pattern_id,\n",
    "                               query_month):\n",
    "    \"\"\"\n",
    "    Get single GIS line geometry.\n",
    "\n",
    "    :param gis_lines_geojson: Directory of GIS bus route geojson file including file name and extension.\n",
    "    :param crs: Coordinate Reference System in \"EPSG:XXXX\" format.\n",
    "    :param route_pattern_id: Single route pattern ID in RRDD format (RR = Route Number, DD = Direction).\n",
    "    :param query_month: Query date in YYYYMMDD format - must be in integer.\n",
    "    :return: Relevant rows from the GIS bus route geojson with line geometries in specified CRS.\n",
    "    \"\"\"\n",
    "\n",
    "    # Import WMATA GIS bus route line geometries\n",
    "    gis_routes = read_all_gis_route_lines(gis_lines_geojson, crs)\n",
    "\n",
    "    single_route = gis_routes[(gis_routes['shape_id'] == route_pattern_id) &\n",
    "                              (gis_routes['start_date'] <= query_month) &\n",
    "                              (gis_routes['end_date'] > query_month)].sort_values(by=['start_date'])\n",
    "    logger.info(f'Route line geometries returned for route pattern {route_pattern_id}.')\n",
    "    return single_route\n",
    "\n"
   ]
  },
  {
   "cell_type": "code",
   "execution_count": 8,
   "id": "1e77dddf-3e6a-4af2-a776-fd1a2280b1c1",
   "metadata": {
    "execution": {
     "iopub.execute_input": "2022-01-05T16:48:42.327210Z",
     "iopub.status.busy": "2022-01-05T16:48:42.327210Z",
     "iopub.status.idle": "2022-01-05T16:49:03.938860Z",
     "shell.execute_reply": "2022-01-05T16:49:03.937845Z",
     "shell.execute_reply.started": "2022-01-05T16:48:42.327210Z"
    },
    "tags": []
   },
   "outputs": [
    {
     "name": "stderr",
     "output_type": "stream",
     "text": [
      "2022-01-05 10:49:03,847: Route line geometries returned for 1147 unique route patterns.\n",
      "2022-01-05 10:49:03,883: Route line geometries returned for route pattern G801.\n"
     ]
    }
   ],
   "source": [
    "# Extract select route pattern\n",
    "active_gis_routes = read_single_gis_route_line(gis_lines_geojson, CRS, route_pattern_id, query_month)"
   ]
  },
  {
   "cell_type": "markdown",
   "id": "6197b574-03f9-4078-8126-3c984617ba57",
   "metadata": {
    "tags": []
   },
   "source": [
    "### GTFS shapes"
   ]
  },
  {
   "cell_type": "code",
   "execution_count": 71,
   "id": "23ebd5a3-ec20-444e-8ac7-19edde2bdc50",
   "metadata": {
    "execution": {
     "iopub.execute_input": "2022-01-05T17:24:57.957626Z",
     "iopub.status.busy": "2022-01-05T17:24:57.957626Z",
     "iopub.status.idle": "2022-01-05T17:24:57.971625Z",
     "shell.execute_reply": "2022-01-05T17:24:57.970624Z",
     "shell.execute_reply.started": "2022-01-05T17:24:57.957626Z"
    },
    "tags": []
   },
   "outputs": [],
   "source": [
    "def read_gtfs_shapes(gtfs_shapes_text, crs, route_pattern_id):\n",
    "    shapes = pd.read_csv(gtfs_shapes_text)\n",
    "    shapes.columns = [c.lower() for c in shapes.columns]\n",
    "    shapes['shape_id'] = shapes['shape_id'].str.replace(':', '')\n",
    "    shapes = shapes[shapes.shape_id == route_pattern_id]\n",
    "    shapes = create_point_gdf(shapes, 'shape_pt_lon', 'shape_pt_lat', crs)\n",
    "    logger.info(f'Route shape geometries returned for route pattern {route_pattern_id} with {len(shapes)} points.')\n",
    "    return shapes"
   ]
  },
  {
   "cell_type": "code",
   "execution_count": 72,
   "id": "a1ecc2d4-cd6e-44a5-a09f-bd8e973d65c2",
   "metadata": {
    "execution": {
     "iopub.execute_input": "2022-01-05T17:24:59.905839Z",
     "iopub.status.busy": "2022-01-05T17:24:59.905839Z",
     "iopub.status.idle": "2022-01-05T17:25:00.551807Z",
     "shell.execute_reply": "2022-01-05T17:25:00.551807Z",
     "shell.execute_reply.started": "2022-01-05T17:24:59.905839Z"
    },
    "tags": []
   },
   "outputs": [
    {
     "name": "stderr",
     "output_type": "stream",
     "text": [
      "2022-01-05 11:25:00,534: Route shape geometries returned for route pattern G801 with 879 points.\n"
     ]
    }
   ],
   "source": [
    "shapes = read_gtfs_shapes(gtfs_shapes_text, CRS, route_pattern_id)"
   ]
  },
  {
   "cell_type": "markdown",
   "id": "756da306-b4ff-4521-85af-e6f10767c2ba",
   "metadata": {},
   "source": [
    "### Line geometry from shapes"
   ]
  },
  {
   "cell_type": "code",
   "execution_count": 36,
   "id": "d8d80abc-9881-46c2-a378-ee419f20ffbe",
   "metadata": {
    "execution": {
     "iopub.execute_input": "2022-01-05T17:05:37.085320Z",
     "iopub.status.busy": "2022-01-05T17:05:37.085320Z",
     "iopub.status.idle": "2022-01-05T17:05:37.097367Z",
     "shell.execute_reply": "2022-01-05T17:05:37.097367Z",
     "shell.execute_reply.started": "2022-01-05T17:05:37.085320Z"
    },
    "tags": []
   },
   "outputs": [],
   "source": [
    "def get_line_geom_from_shapes(shapes_gdf, crs):\n",
    "    shape_line_geometry = (shapes_gdf.sort_values(by = ['shape_id', 'shape_pt_sequence'])\n",
    "                                 .groupby(['shape_id'])['geometry']\n",
    "                                 .apply(lambda x: LineString(x.tolist())))\n",
    "    logger.info(f'Route line geometries returned for route pattern {route_pattern_id} using {len(shapes)} points.')\n",
    "    return gpd.GeoDataFrame(shape_line_geometry, \n",
    "                            geometry = 'geometry',\n",
    "                            crs = CRS).reset_index()"
   ]
  },
  {
   "cell_type": "code",
   "execution_count": 37,
   "id": "3fc60f11-b0a8-4d03-97c4-6d4de112710c",
   "metadata": {
    "execution": {
     "iopub.execute_input": "2022-01-05T17:05:37.506979Z",
     "iopub.status.busy": "2022-01-05T17:05:37.506979Z",
     "iopub.status.idle": "2022-01-05T17:05:37.535977Z",
     "shell.execute_reply": "2022-01-05T17:05:37.535977Z",
     "shell.execute_reply.started": "2022-01-05T17:05:37.506979Z"
    },
    "tags": []
   },
   "outputs": [
    {
     "name": "stderr",
     "output_type": "stream",
     "text": [
      "2022-01-05 11:05:37,522: Route line geometries returned for route pattern G801 using 879 points.\n"
     ]
    }
   ],
   "source": [
    "shapes_line = get_line_geom_from_shapes(shapes_gdf = shapes, crs = CRS)"
   ]
  },
  {
   "cell_type": "markdown",
   "id": "b70a399a-423e-4c42-8bc1-09b073896304",
   "metadata": {
    "execution": {
     "iopub.execute_input": "2021-11-06T19:47:00.997275Z",
     "iopub.status.busy": "2021-11-06T19:47:00.997275Z",
     "iopub.status.idle": "2021-11-06T19:47:01.098818Z",
     "shell.execute_reply": "2021-11-06T19:47:01.097969Z",
     "shell.execute_reply.started": "2021-11-06T19:47:00.997275Z"
    },
    "tags": []
   },
   "source": [
    "### Route buffer"
   ]
  },
  {
   "cell_type": "code",
   "execution_count": 88,
   "id": "01f30da4-6394-4e4d-87c6-3f8fc7e6bb2b",
   "metadata": {
    "execution": {
     "iopub.execute_input": "2022-01-05T17:43:35.057402Z",
     "iopub.status.busy": "2022-01-05T17:43:35.057402Z",
     "iopub.status.idle": "2022-01-05T17:43:35.065027Z",
     "shell.execute_reply": "2022-01-05T17:43:35.064044Z",
     "shell.execute_reply.started": "2022-01-05T17:43:35.057402Z"
    },
    "tags": []
   },
   "outputs": [],
   "source": [
    "def create_buffer(gdf, buffer_in_meter, crs, sort_columns = None):\n",
    "    \"\"\"\n",
    "    Creates buffered polygons based in given value in meter.\n",
    "    \n",
    "    Args:\n",
    "    -----\n",
    "    gdf             : A GeoDataFrame.\n",
    "    sort_columns    : A list column to sort the records\n",
    "                      before creating buffer.\n",
    "    buffer_in_meter : Distance in meter.\n",
    "    \n",
    "    Return:\n",
    "    -------\n",
    "    A GeoDataFrame with buffered polygons.    \n",
    "    \"\"\"\n",
    "    # Sort records if column names are given\n",
    "    if sort_columns is not None:\n",
    "        gdf = gdf.copy().sort_values(by = sort_columns)\n",
    "    else:\n",
    "        gdf = gdf.copy()\n",
    "    \n",
    "    # Convert CRS to use meter\n",
    "    gdf = gdf.to_crs('EPSG:3857')\n",
    "    gdf['geometry'] = gdf.geometry.buffer(buffer_in_meter)\n",
    "    return gdf.to_crs(CRS)\n",
    "\n",
    "def create_union_of_buffer_geom(buff1, buff2, only_geom = False):\n",
    "    if only_geom:\n",
    "        return gpd.overlay(buff1, buff2, how = 'union').dissolve().geometry[0]\n",
    "    else:\n",
    "        buff = gpd.overlay(buff1, buff2, how = 'union').dissolve()\n",
    "        return buff.geometry[0], buff"
   ]
  },
  {
   "cell_type": "code",
   "execution_count": 89,
   "id": "c4343485-17fc-45f3-a90b-b9f7fa26650d",
   "metadata": {
    "execution": {
     "iopub.execute_input": "2022-01-05T17:43:35.539388Z",
     "iopub.status.busy": "2022-01-05T17:43:35.539388Z",
     "iopub.status.idle": "2022-01-05T17:43:35.710310Z",
     "shell.execute_reply": "2022-01-05T17:43:35.710310Z",
     "shell.execute_reply.started": "2022-01-05T17:43:35.539388Z"
    },
    "tags": []
   },
   "outputs": [],
   "source": [
    "# Create buffers for GTFS lines and GIS lines\n",
    "shapes_line_buffer = create_buffer(shapes_line, buffer_in_meter = 25, crs = CRS, sort_columns = ['shape_id'])\n",
    "active_gis_routes_buffer = create_buffer(active_gis_routes, buffer_in_meter = 25, crs = CRS, sort_columns = ['shape_id'])[['shape_id', 'geometry']]"
   ]
  },
  {
   "cell_type": "code",
   "execution_count": 90,
   "id": "625c9693-8aa3-4eb3-980a-e32e94f90f5c",
   "metadata": {
    "execution": {
     "iopub.execute_input": "2022-01-05T17:43:38.420425Z",
     "iopub.status.busy": "2022-01-05T17:43:38.420425Z",
     "iopub.status.idle": "2022-01-05T17:43:38.627010Z",
     "shell.execute_reply": "2022-01-05T17:43:38.627010Z",
     "shell.execute_reply.started": "2022-01-05T17:43:38.420425Z"
    },
    "tags": []
   },
   "outputs": [],
   "source": [
    "buffer_geom, route_buffer = create_union_of_buffer_geom(shapes_line_buffer, active_gis_routes_buffer)"
   ]
  },
  {
   "cell_type": "markdown",
   "id": "dfa09878-defc-417d-ace3-1e1909533fe2",
   "metadata": {},
   "source": [
    "### Export interim files"
   ]
  },
  {
   "cell_type": "code",
   "execution_count": 94,
   "id": "594923d6-a98d-406f-b01f-f60b67552da7",
   "metadata": {
    "execution": {
     "iopub.execute_input": "2022-01-05T17:44:05.255651Z",
     "iopub.status.busy": "2022-01-05T17:44:05.255651Z",
     "iopub.status.idle": "2022-01-05T17:44:05.551228Z",
     "shell.execute_reply": "2022-01-05T17:44:05.550501Z",
     "shell.execute_reply.started": "2022-01-05T17:44:05.255651Z"
    },
    "tags": []
   },
   "outputs": [],
   "source": [
    "# Export shapes\n",
    "shapes.to_file(os.path.join(data_dir, \n",
    "                            'interim',\n",
    "                            f'{route_pattern_id}_ROUTE_SHAPES.geojson'))\n",
    "\n",
    "# Export shape line\n",
    "shapes_line.to_file(os.path.join(data_dir, \n",
    "                                 'interim',\n",
    "                                 f'{route_pattern_id}_ROUTE_SHAPE_LINE.geojson'))\n",
    "\n",
    "# Export GIS line\n",
    "active_gis_routes.to_file(os.path.join(data_dir, \n",
    "                                       'interim',\n",
    "                                       f'{route_pattern_id}_GIS_ROUTE_LINE.geojson'))\n",
    "\n",
    "# Export buffer\n",
    "route_buffer.to_file(os.path.join(data_dir, \n",
    "                                        'interim',\n",
    "                                        f'{route_pattern_id}_ROUTE_BUFFER.geojson'))"
   ]
  },
  {
   "cell_type": "markdown",
   "id": "256fd4e0-f9a0-4f8a-b3cb-2b4616b296e8",
   "metadata": {},
   "source": [
    "### Import OSM"
   ]
  },
  {
   "cell_type": "code",
   "execution_count": 75,
   "id": "38887e81-b977-478c-b6f2-51e4ee5f8e37",
   "metadata": {
    "execution": {
     "iopub.execute_input": "2022-01-05T17:27:09.161450Z",
     "iopub.status.busy": "2022-01-05T17:27:09.160452Z",
     "iopub.status.idle": "2022-01-05T17:27:09.178444Z",
     "shell.execute_reply": "2022-01-05T17:27:09.177443Z",
     "shell.execute_reply.started": "2022-01-05T17:27:09.161450Z"
    },
    "tags": []
   },
   "outputs": [],
   "source": [
    "def get_graph_nodes_edges_sindex(graph_obj, spatial_index=True):\n",
    "    \"\"\"\n",
    "    Create nodes and edges from graph with spatial indexes if specified.\n",
    "    :param graph_obj: A graph object of street network.\n",
    "    :param spatial_index: Boolean indicator to specify if spatial indexes should be returned as well.\n",
    "    :return: Nodes and edges GeoDataFrame with nodes and edges spatial indexes if specified.\n",
    "    \"\"\"\n",
    "    nodes, edges = ox.graph_to_gdfs(graph_obj, edges=True)\n",
    "    if spatial_index:\n",
    "        return nodes.reset_index(), edges.reset_index(), get_spatial_index(nodes), get_spatial_index(edges)\n",
    "    else:\n",
    "        return nodes.reset_index(), edges.reset_index()"
   ]
  },
  {
   "cell_type": "code",
   "execution_count": 9,
   "id": "8406f074-0981-4ace-8283-b71bbd3fe3d0",
   "metadata": {
    "execution": {
     "iopub.execute_input": "2022-01-05T16:53:29.629012Z",
     "iopub.status.busy": "2022-01-05T16:53:29.629012Z",
     "iopub.status.idle": "2022-01-05T16:54:16.256555Z",
     "shell.execute_reply": "2022-01-05T16:54:16.255551Z",
     "shell.execute_reply.started": "2022-01-05T16:53:29.629012Z"
    },
    "tags": []
   },
   "outputs": [],
   "source": [
    "G = ox.load_graphml(os.path.join(data_dir, 'osm_graph', 'wmata_osm_graph.graphml'))"
   ]
  },
  {
   "cell_type": "code",
   "execution_count": 76,
   "id": "aebe2bfa-7da3-4fa7-9c5c-b497efd2f8c4",
   "metadata": {
    "execution": {
     "iopub.execute_input": "2022-01-05T17:29:25.599804Z",
     "iopub.status.busy": "2022-01-05T17:29:25.599804Z",
     "iopub.status.idle": "2022-01-05T17:30:56.122079Z",
     "shell.execute_reply": "2022-01-05T17:30:56.122079Z",
     "shell.execute_reply.started": "2022-01-05T17:29:25.599804Z"
    },
    "tags": []
   },
   "outputs": [],
   "source": [
    "# Nodes and edges from graph\n",
    "nodes, edges, node_sindex, edge_sindex = get_graph_nodes_edges_sindex(G)"
   ]
  },
  {
   "cell_type": "markdown",
   "id": "1ce15ff7-3098-47d7-82e4-4d3853510558",
   "metadata": {},
   "source": [
    "### Get list of nodes inside the buffer using edges"
   ]
  },
  {
   "cell_type": "code",
   "execution_count": 95,
   "id": "824aaaac-ce58-4807-89c8-a0558cf40c0c",
   "metadata": {
    "execution": {
     "iopub.execute_input": "2022-01-05T17:44:14.184329Z",
     "iopub.status.busy": "2022-01-05T17:44:14.182885Z",
     "iopub.status.idle": "2022-01-05T17:44:14.203326Z",
     "shell.execute_reply": "2022-01-05T17:44:14.202358Z",
     "shell.execute_reply.started": "2022-01-05T17:44:14.184329Z"
    },
    "tags": []
   },
   "outputs": [],
   "source": [
    "def get_node_list_using_edges_within_buffer(edges, edge_sindex, buffer_geom):\n",
    "    \"\"\"\n",
    "    Returns list of nodes inside the buffer.\n",
    "    \"\"\"\n",
    " \n",
    "    # Candidate edges\n",
    "    edge_candidate_idx = list(edge_sindex.intersection(buffer_geom.bounds))\n",
    "    candidate_edges = edges.iloc[edge_candidate_idx]\n",
    "    intersecting_edges = candidate_edges[candidate_edges.intersects(buffer_geom)]\n",
    "    u_list = intersecting_edges.loc[:,'u'].unique().tolist()\n",
    "    v_list = intersecting_edges.loc[:,'v'].unique().tolist()\n",
    "    node_list = list(set(u_list + v_list))\n",
    "   \n",
    "    logger.info(f'{len(intersecting_edges)} edges (of {len(edges)} total edges) found inside the buffer.')\n",
    "    logger.info(f'{len(node_list)} nodes returned.')\n",
    "    return node_list"
   ]
  },
  {
   "cell_type": "code",
   "execution_count": 96,
   "id": "eb3e6518-d5a3-4aa1-994e-6d687174923d",
   "metadata": {
    "execution": {
     "iopub.execute_input": "2022-01-05T17:44:14.809050Z",
     "iopub.status.busy": "2022-01-05T17:44:14.809050Z",
     "iopub.status.idle": "2022-01-05T17:44:21.223988Z",
     "shell.execute_reply": "2022-01-05T17:44:21.223988Z",
     "shell.execute_reply.started": "2022-01-05T17:44:14.809050Z"
    },
    "tags": []
   },
   "outputs": [
    {
     "name": "stderr",
     "output_type": "stream",
     "text": [
      "2022-01-05 11:44:21,215: 816 edges (of 680826 total edges) found inside the buffer.\n",
      "2022-01-05 11:44:21,218: 439 nodes returned.\n"
     ]
    }
   ],
   "source": [
    "node_list_from_edges = get_node_list_using_edges_within_buffer(edges, edge_sindex, buffer_geom)"
   ]
  },
  {
   "cell_type": "markdown",
   "id": "ac5d4ec6-32a0-4bd2-9fc9-02d8d62fce64",
   "metadata": {},
   "source": [
    "### Get a subgraph using the list of nodes"
   ]
  },
  {
   "cell_type": "code",
   "execution_count": 97,
   "id": "2b89e601-0ce1-42e2-a8bc-19bc42b94e40",
   "metadata": {
    "execution": {
     "iopub.execute_input": "2022-01-05T17:45:21.517432Z",
     "iopub.status.busy": "2022-01-05T17:45:21.516432Z",
     "iopub.status.idle": "2022-01-05T17:45:21.537431Z",
     "shell.execute_reply": "2022-01-05T17:45:21.537431Z",
     "shell.execute_reply.started": "2022-01-05T17:45:21.517432Z"
    },
    "tags": []
   },
   "outputs": [],
   "source": [
    "def get_subgraph_using_node_list(G, node_list):\n",
    "    \"\"\"\n",
    "    Returns subgraph from node list.\n",
    "    \"\"\"\n",
    "    return G.subgraph(node_list).copy()"
   ]
  },
  {
   "cell_type": "code",
   "execution_count": 101,
   "id": "b96cc852-5b90-4c05-871f-70e90c07bd32",
   "metadata": {
    "execution": {
     "iopub.execute_input": "2022-01-05T17:47:19.268235Z",
     "iopub.status.busy": "2022-01-05T17:47:19.268235Z",
     "iopub.status.idle": "2022-01-05T17:47:19.288998Z",
     "shell.execute_reply": "2022-01-05T17:47:19.287994Z",
     "shell.execute_reply.started": "2022-01-05T17:47:19.268235Z"
    },
    "tags": []
   },
   "outputs": [],
   "source": [
    "def convert_list_to_string(df, col):\n",
    "    \"\"\"\n",
    "    Convert list-type cell value to string-type cell value.\n",
    "\n",
    "    :param df: A DataFrame or GeoDataFrame.\n",
    "    :param col: A list of columns with list-type cell values.\n",
    "    :return: A DataFrame or GeoDataFrame with list-type cell values converted to string-type cell values.\n",
    "    \"\"\"\n",
    "    return df.loc[:, col].apply(lambda x: str(x) if type(x) != list else \", \".join([str(item) for item in x]))\n",
    "\n",
    "\n",
    "def clean_edge_fields_for_export(edge_df):\n",
    "    \"\"\"\n",
    "    Convert list-type cell values to string-type cell values in edge fields for export.\n",
    "\n",
    "    :param edge_df: An edge DataFrame or GeoDataFrame.\n",
    "    :return: Clean DataFrame or GeoDataFrame for export.\n",
    "    \"\"\"\n",
    "    col_list = ['osmid', 'name', 'highway', 'length', 'oneway']\n",
    "    for col in col_list:\n",
    "        edge_df.loc[:, f'{col}'] = convert_list_to_string(edge_df, col)\n",
    "    return edge_df[['u', 'v'] + col_list + ['geometry']].copy()"
   ]
  },
  {
   "cell_type": "code",
   "execution_count": 102,
   "id": "bc8751f6-4a9b-4109-81f8-d09d86e740e4",
   "metadata": {
    "execution": {
     "iopub.execute_input": "2022-01-05T17:47:21.183384Z",
     "iopub.status.busy": "2022-01-05T17:47:21.183384Z",
     "iopub.status.idle": "2022-01-05T17:47:21.363152Z",
     "shell.execute_reply": "2022-01-05T17:47:21.363152Z",
     "shell.execute_reply.started": "2022-01-05T17:47:21.183384Z"
    },
    "tags": []
   },
   "outputs": [],
   "source": [
    "#logging.info('Create subset graph network')\n",
    "G_sub = get_subgraph_using_node_list(G, node_list_from_edges)\n",
    "\n",
    "# Nodes and graphs from sub-graph\n",
    "G_sub_nodes, G_sub_edges, G_sub_node_sindex, G_sub_edge_sindex = get_graph_nodes_edges_sindex(G_sub)"
   ]
  },
  {
   "cell_type": "code",
   "execution_count": 103,
   "id": "9c9f1165-640b-4363-a987-05f9fed97fe2",
   "metadata": {
    "execution": {
     "iopub.execute_input": "2022-01-05T17:47:22.469647Z",
     "iopub.status.busy": "2022-01-05T17:47:22.469647Z",
     "iopub.status.idle": "2022-01-05T17:47:22.695496Z",
     "shell.execute_reply": "2022-01-05T17:47:22.693537Z",
     "shell.execute_reply.started": "2022-01-05T17:47:22.469647Z"
    },
    "tags": []
   },
   "outputs": [],
   "source": [
    "# Export subgraph\n",
    "clean_edge_fields_for_export(G_sub_edges).to_file(os.path.join(data_dir, \n",
    "                                        'interim', f'{route_pattern_id}_SUBGRAPH_EDGES.geojson'))"
   ]
  },
  {
   "cell_type": "markdown",
   "id": "063bf91b-87d9-446b-8206-e4e972fad290",
   "metadata": {},
   "source": [
    "### Clip the streets based on route buffer"
   ]
  },
  {
   "cell_type": "code",
   "execution_count": 104,
   "id": "aaece149-53b3-474e-a079-03271591075e",
   "metadata": {
    "execution": {
     "iopub.execute_input": "2022-01-05T17:49:52.671538Z",
     "iopub.status.busy": "2022-01-05T17:49:52.670536Z",
     "iopub.status.idle": "2022-01-05T17:49:53.045802Z",
     "shell.execute_reply": "2022-01-05T17:49:53.044719Z",
     "shell.execute_reply.started": "2022-01-05T17:49:52.670536Z"
    },
    "tags": []
   },
   "outputs": [],
   "source": [
    "# Clip the streets based on route buffer\n",
    "G_sub_edges_clipped = gpd.clip(G_sub_edges, buffer_geom).copy()\n",
    "\n",
    "# Export clipped subgraph\n",
    "clean_edge_fields_for_export(G_sub_edges_clipped).to_file(os.path.join(data_dir, \n",
    "                                                                       'interim', f'{route_pattern_id}_SUBGRAPH_EDGES_CLIPPED.geojson'))"
   ]
  },
  {
   "cell_type": "markdown",
   "id": "4cbd0d80-59d3-4737-ba55-8f4d5c562167",
   "metadata": {},
   "source": [
    "### Attach original length to clipped edges"
   ]
  },
  {
   "cell_type": "code",
   "execution_count": 108,
   "id": "53a97866-3cd3-46de-9eb7-3ff029d2d308",
   "metadata": {
    "execution": {
     "iopub.execute_input": "2022-01-05T17:56:57.295597Z",
     "iopub.status.busy": "2022-01-05T17:56:57.295597Z",
     "iopub.status.idle": "2022-01-05T17:56:57.379596Z",
     "shell.execute_reply": "2022-01-05T17:56:57.378596Z",
     "shell.execute_reply.started": "2022-01-05T17:56:57.295597Z"
    },
    "tags": []
   },
   "outputs": [],
   "source": [
    "# Subgraph in meter\n",
    "G_sub_edges_meter = G_sub_edges.to_crs(CRS_METER)\n",
    "G_sub_edges_meter['orig_length'] = G_sub_edges_meter.geometry.length"
   ]
  },
  {
   "cell_type": "code",
   "execution_count": 109,
   "id": "25e46ed2-1201-4b35-9f31-df57d52d9bfd",
   "metadata": {
    "execution": {
     "iopub.execute_input": "2022-01-05T17:57:10.608547Z",
     "iopub.status.busy": "2022-01-05T17:57:10.607547Z",
     "iopub.status.idle": "2022-01-05T17:57:10.681492Z",
     "shell.execute_reply": "2022-01-05T17:57:10.680488Z",
     "shell.execute_reply.started": "2022-01-05T17:57:10.608547Z"
    },
    "tags": []
   },
   "outputs": [],
   "source": [
    "# Convert crs to use meter\n",
    "G_sub_edges_clipped_meter = G_sub_edges_clipped.to_crs(CRS_METER)\n",
    "\n",
    "# Merge original length before clipping\n",
    "G_sub_edges_clipped_meter = (G_sub_edges_clipped_meter.merge(G_sub_edges_meter[['u', 'v', 'osmid', 'orig_length']], \n",
    "                                                             on = ['u', 'v', 'osmid',], \n",
    "                                                             how = 'left'))"
   ]
  },
  {
   "cell_type": "markdown",
   "id": "b390a5db-1303-4b83-910a-7c5d729a2bd3",
   "metadata": {
    "tags": []
   },
   "source": [
    "### New columns to compare lengths"
   ]
  },
  {
   "cell_type": "code",
   "execution_count": 111,
   "id": "8afa9033-eaa7-4e62-9f56-64dfb53dc0bf",
   "metadata": {
    "execution": {
     "iopub.execute_input": "2022-01-05T17:58:08.667894Z",
     "iopub.status.busy": "2022-01-05T17:58:08.667894Z",
     "iopub.status.idle": "2022-01-05T17:58:08.699814Z",
     "shell.execute_reply": "2022-01-05T17:58:08.698850Z",
     "shell.execute_reply.started": "2022-01-05T17:58:08.667894Z"
    },
    "tags": []
   },
   "outputs": [],
   "source": [
    "G_sub_edges_clipped_meter.loc[:, 'new_length'] = G_sub_edges_clipped_meter.geometry.length\n",
    "G_sub_edges_clipped_meter.loc[:, 'compare_length_value'] = (G_sub_edges_clipped_meter['orig_length'].astype(float) * 0.01)\n",
    "G_sub_edges_clipped_meter.loc[:,'new_length'].fillna(1, inplace = True)\n",
    "\n",
    "condition = ((abs(G_sub_edges_clipped_meter.new_length - G_sub_edges_clipped_meter['orig_length'].astype(float))) \n",
    "             < G_sub_edges_clipped_meter.compare_length_value)\n",
    "G_sub_edges_clipped_meter.loc[:,'org_vs_new_length'] = np.where(condition, 1, 1500)"
   ]
  },
  {
   "cell_type": "markdown",
   "id": "356071d7-6544-4640-a77b-e1d566b02bc6",
   "metadata": {},
   "source": [
    "### Hardclip edges"
   ]
  },
  {
   "cell_type": "code",
   "execution_count": 112,
   "id": "4ffae4b9-b4fb-4898-bde2-ba14020d5a26",
   "metadata": {
    "execution": {
     "iopub.execute_input": "2022-01-05T17:58:47.433491Z",
     "iopub.status.busy": "2022-01-05T17:58:47.433491Z",
     "iopub.status.idle": "2022-01-05T17:58:47.449492Z",
     "shell.execute_reply": "2022-01-05T17:58:47.448490Z",
     "shell.execute_reply.started": "2022-01-05T17:58:47.433491Z"
    },
    "tags": []
   },
   "outputs": [],
   "source": [
    "# Hardclip\n",
    "G_sub_edges_hardclipped = G_sub_edges_clipped_meter[G_sub_edges_clipped_meter['org_vs_new_length'] == 1]\n",
    "\n",
    "G_sub_edges_hardclipped['edge_key'] = tuple(zip(G_sub_edges_hardclipped['u'],\n",
    "                                                G_sub_edges_hardclipped['v'],\n",
    "                                                G_sub_edges_hardclipped['key']))\n",
    "\n",
    "G_sub_hardclipped_edgelist = G_sub_edges_hardclipped['edge_key'].tolist()\n",
    "\n",
    "# Right now, manual edit is not implemented\n",
    "# as outlined in prevoius wmata code."
   ]
  },
  {
   "cell_type": "markdown",
   "id": "8dafc56c-3112-4b17-8842-bc775e5111a0",
   "metadata": {},
   "source": [
    "### Get the nearest edges of the start and end points"
   ]
  },
  {
   "cell_type": "code",
   "execution_count": 114,
   "id": "352d79b2-fdc1-49ac-aeb1-2469aa2acbda",
   "metadata": {
    "execution": {
     "iopub.execute_input": "2022-01-05T18:02:14.396963Z",
     "iopub.status.busy": "2022-01-05T18:02:14.396963Z",
     "iopub.status.idle": "2022-01-05T18:02:14.409960Z",
     "shell.execute_reply": "2022-01-05T18:02:14.408957Z",
     "shell.execute_reply.started": "2022-01-05T18:02:14.396963Z"
    },
    "tags": []
   },
   "outputs": [],
   "source": [
    "# Get first and last edges\n",
    "first_pt_geom = shapes.reset_index(drop = True).iloc[0].geometry\n",
    "last_pt_geom = shapes.reset_index(drop = True).iloc[-1].geometry"
   ]
  },
  {
   "cell_type": "code",
   "execution_count": 115,
   "id": "c781243c-344c-46e3-b472-c138ced8ec8a",
   "metadata": {
    "execution": {
     "iopub.execute_input": "2022-01-05T18:02:15.572188Z",
     "iopub.status.busy": "2022-01-05T18:02:15.572188Z",
     "iopub.status.idle": "2022-01-05T18:02:16.104681Z",
     "shell.execute_reply": "2022-01-05T18:02:16.104681Z",
     "shell.execute_reply.started": "2022-01-05T18:02:15.572188Z"
    },
    "tags": []
   },
   "outputs": [],
   "source": [
    "# Using the first and last stop geometry,\n",
    "# find the nearest edges.\n",
    "first_pt_edge = ox.get_nearest_edge(G_sub, \n",
    "                     (first_pt_geom.y, first_pt_geom.x),\n",
    "                     return_geom = False,\n",
    "                     return_dist = False)\n",
    "\n",
    "last_pt_edge = ox.get_nearest_edge(G_sub, \n",
    "                    (last_pt_geom.y, last_pt_geom.x),\n",
    "                    return_geom = False,\n",
    "                    return_dist = False)\n",
    "\n",
    "first_pt_edge_opposite = (first_pt_edge[1], first_pt_edge[0], first_pt_edge[2])\n",
    "last_pt_edge_opposite = (last_pt_edge[1], last_pt_edge[0], last_pt_edge[2])\n",
    "first_last_edgelist = [first_pt_edge,\n",
    "                       first_pt_edge_opposite,\n",
    "                       last_pt_edge,\n",
    "                       last_pt_edge_opposite]\n",
    "\n",
    "G_sub_hardclipped_first_last = G_sub_hardclipped_edgelist + first_last_edgelist"
   ]
  },
  {
   "cell_type": "markdown",
   "id": "d2025e11-de12-43b0-a8f3-9f8bf88bba60",
   "metadata": {},
   "source": [
    "### Get the final hardclipped graph and edges"
   ]
  },
  {
   "cell_type": "code",
   "execution_count": 116,
   "id": "ca34db3a-6824-4b17-b282-45724f36256a",
   "metadata": {
    "execution": {
     "iopub.execute_input": "2022-01-05T18:03:01.707703Z",
     "iopub.status.busy": "2022-01-05T18:03:01.707703Z",
     "iopub.status.idle": "2022-01-05T18:03:01.755700Z",
     "shell.execute_reply": "2022-01-05T18:03:01.755700Z",
     "shell.execute_reply.started": "2022-01-05T18:03:01.707703Z"
    },
    "tags": []
   },
   "outputs": [],
   "source": [
    "# Get the largest connected graph\n",
    "G_sub_hardclipped = ox.utils_graph.get_largest_component(nx.edge_subgraph(G, G_sub_hardclipped_first_last))"
   ]
  },
  {
   "cell_type": "code",
   "execution_count": 117,
   "id": "9bb9c040-d8be-4074-af84-586e517029b5",
   "metadata": {
    "execution": {
     "iopub.execute_input": "2022-01-05T18:03:06.882650Z",
     "iopub.status.busy": "2022-01-05T18:03:06.882650Z",
     "iopub.status.idle": "2022-01-05T18:03:06.991584Z",
     "shell.execute_reply": "2022-01-05T18:03:06.990665Z",
     "shell.execute_reply.started": "2022-01-05T18:03:06.882650Z"
    },
    "tags": []
   },
   "outputs": [],
   "source": [
    "# Export hardclipped nodes and edges\n",
    "G_sub_hardclipped_nodes, G_sub_hardclipped_edges, G_sub_hardclipped_node_sindex, G_sub_hardclipped_sindex = get_graph_nodes_edges_sindex(G_sub_hardclipped)"
   ]
  },
  {
   "cell_type": "code",
   "execution_count": 122,
   "id": "13d7ed22-1820-47f5-9e0e-45d71de409b6",
   "metadata": {
    "execution": {
     "iopub.execute_input": "2022-01-05T18:21:55.757004Z",
     "iopub.status.busy": "2022-01-05T18:21:55.757004Z",
     "iopub.status.idle": "2022-01-05T18:21:55.941451Z",
     "shell.execute_reply": "2022-01-05T18:21:55.941451Z",
     "shell.execute_reply.started": "2022-01-05T18:21:55.757004Z"
    },
    "tags": []
   },
   "outputs": [],
   "source": [
    "# Export hardclipped edges\n",
    "clean_edge_fields_for_export(G_sub_hardclipped_edges).to_file(os.path.join(data_dir, \n",
    "                                                                       'interim', f'{route_pattern_id}_SUBGRAPH_EDGES_HARDCLIPPED.geojson'))\n",
    "\n",
    "# Export hardclipped nodes\n",
    "G_sub_hardclipped_nodes.to_file(os.path.join(data_dir, 'interim', f'{route_pattern_id}_SUBGRAPH_NODES_HARDCLIPPED.geojson'))\n",
    "\n",
    "# Export hardclipped nodes\n",
    "ox.save_graphml(G_sub_hardclipped, os.path.join(data_dir, 'interim', f'{route_pattern_id}_SUBGRAPH_HARDCLIPPED.graphml'))"
   ]
  },
  {
   "cell_type": "code",
   "execution_count": null,
   "id": "94ca3b53-a829-4e16-b376-375f161e516e",
   "metadata": {},
   "outputs": [],
   "source": []
  }
 ],
 "metadata": {
  "kernelspec": {
   "display_name": "Python 3 (ipykernel)",
   "language": "python",
   "name": "python3"
  },
  "language_info": {
   "codemirror_mode": {
    "name": "ipython",
    "version": 3
   },
   "file_extension": ".py",
   "mimetype": "text/x-python",
   "name": "python",
   "nbconvert_exporter": "python",
   "pygments_lexer": "ipython3",
   "version": "3.8.12"
  }
 },
 "nbformat": 4,
 "nbformat_minor": 5
}
