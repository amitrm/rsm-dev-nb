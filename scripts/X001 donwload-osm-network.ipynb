{
 "cells": [
  {
   "cell_type": "markdown",
   "id": "59f8d315-b508-4951-b3db-1cfb0ae95137",
   "metadata": {
    "tags": []
   },
   "source": [
    "## Download and store OSM network data.\n",
    "### Packages\n"
   ]
  },
  {
   "cell_type": "code",
   "execution_count": 27,
   "id": "630da880-dc1c-47ba-9020-9bb7f72fa1ed",
   "metadata": {
    "execution": {
     "iopub.execute_input": "2022-01-05T20:49:22.461548Z",
     "iopub.status.busy": "2022-01-05T20:49:22.460548Z",
     "iopub.status.idle": "2022-01-05T20:49:22.472586Z",
     "shell.execute_reply": "2022-01-05T20:49:22.472586Z",
     "shell.execute_reply.started": "2022-01-05T20:49:22.461548Z"
    },
    "tags": []
   },
   "outputs": [],
   "source": [
    "# Import standard packages\n",
    "import os\n",
    "import sys\n",
    "import geopandas as gpd\n",
    "from shapely.geometry import box\n",
    "import osmnx as ox\n",
    "from datetime import date"
   ]
  },
  {
   "cell_type": "markdown",
   "id": "fe64fba1-0a16-4ef8-8f69-40b15836ee44",
   "metadata": {
    "tags": []
   },
   "source": [
    "### Directory & Parameters"
   ]
  },
  {
   "cell_type": "code",
   "execution_count": 7,
   "id": "371472ee-98ac-4abe-be4d-11a36c454fab",
   "metadata": {
    "execution": {
     "iopub.execute_input": "2022-01-05T20:29:32.760189Z",
     "iopub.status.busy": "2022-01-05T20:29:32.760189Z",
     "iopub.status.idle": "2022-01-05T20:29:32.769190Z",
     "shell.execute_reply": "2022-01-05T20:29:32.768188Z",
     "shell.execute_reply.started": "2022-01-05T20:29:32.760189Z"
    },
    "tags": []
   },
   "outputs": [],
   "source": [
    "# Directory\n",
    "data_dir = os.path.normpath(r'..\\\\data')\n",
    "os.makedirs(os.path.join(data_dir, 'osm_graph'), exist_ok = True)\n",
    "output_dir = os.path.join(data_dir, 'osm_graph')\n",
    "\n",
    "# Parameters\n",
    "CRS = 'EPSG:4326'\n",
    "CRS_METER = 'EPSG:3857'\n",
    "\n",
    "# GIS route line geometries \n",
    "gis_lines_geojson = os.path.join(data_dir,\n",
    "                                 'gis_bsrt_line',\n",
    "                                 'gis_bsrt_line.geojson')"
   ]
  },
  {
   "cell_type": "markdown",
   "id": "73d41c6a-ee6b-4279-9ff0-436a2aa93e4d",
   "metadata": {},
   "source": [
    "### Read data\n",
    "\n",
    "This data should have the geometries for the universal set of routes for which we want to extract the OSM network."
   ]
  },
  {
   "cell_type": "code",
   "execution_count": 10,
   "id": "5a0cee52-113e-4b5b-840e-f69644c28cff",
   "metadata": {
    "execution": {
     "iopub.execute_input": "2022-01-05T20:30:59.559461Z",
     "iopub.status.busy": "2022-01-05T20:30:59.558461Z",
     "iopub.status.idle": "2022-01-05T20:30:59.571457Z",
     "shell.execute_reply": "2022-01-05T20:30:59.571457Z",
     "shell.execute_reply.started": "2022-01-05T20:30:59.559461Z"
    },
    "tags": []
   },
   "outputs": [],
   "source": [
    "def read_all_gis_route_lines(gis_lines_geojson,\n",
    "                             crs):\n",
    "    \"\"\"\n",
    "    Get all GIS route line geometries in the data.\n",
    "\n",
    "    :param gis_lines_geojson: Directory of GIS bus route geojson file including file name and extension.\n",
    "    :param crs: Coordinate Reference System in \"EPSG:XXXX\" format.\n",
    "    :return: A GeoDataFrame with line geometries for all available route patterns in specified CRS.\n",
    "    \"\"\"\n",
    "\n",
    "    # Import WMATA GIS bus route line geometries\n",
    "    gis_routes = gpd.read_file(gis_lines_geojson)\n",
    "    gis_routes = gis_routes.to_crs(crs)\n",
    "    gis_routes.columns = [c.lower() if c != 'geometry' else c for c in gis_routes.columns]\n",
    "\n",
    "    # Create \"shape_id\" column\n",
    "    gis_routes['pattern_id'] = gis_routes['gis_routec'].str.split('_').str[-1]\n",
    "    gis_routes['shape_id'] = gis_routes['route'] + gis_routes['pattern_id']\n",
    "    gis_routes = gis_routes.sort_values(by='shape_id')\n",
    "\n",
    "    # Create start and end date in YYYYMM format for schedule based selection\n",
    "    gis_routes['start_date'] = gis_routes['str_date'].astype(str).str[:10].str.replace('-', '').astype(int)\n",
    "    gis_routes['end_date'] = gis_routes['end_date'].astype(str).str[:10].str.replace('-', '').astype(int)\n",
    "\n",
    "    return gis_routes.sort_values(by=['start_date'])"
   ]
  },
  {
   "cell_type": "code",
   "execution_count": 11,
   "id": "976e15fc-c0dd-42ed-a51c-bc3bf3b706fc",
   "metadata": {
    "execution": {
     "iopub.execute_input": "2022-01-05T20:31:00.813700Z",
     "iopub.status.busy": "2022-01-05T20:31:00.813700Z",
     "iopub.status.idle": "2022-01-05T20:31:24.369053Z",
     "shell.execute_reply": "2022-01-05T20:31:24.367954Z",
     "shell.execute_reply.started": "2022-01-05T20:31:00.813700Z"
    },
    "tags": []
   },
   "outputs": [],
   "source": [
    "gis_routes = read_all_gis_route_lines(gis_lines_geojson, CRS)"
   ]
  },
  {
   "cell_type": "markdown",
   "id": "ca38b256-3390-4b21-8a67-10a6fa1714f4",
   "metadata": {},
   "source": [
    "### Create unified polygon\n",
    "- Use a GeoDataFrame to create the boundary of a unified polygon. \n",
    "- Define a buffer threshold to include additional area around the actual boundary to capture nearly connected nodes in the street network. "
   ]
  },
  {
   "cell_type": "code",
   "execution_count": 12,
   "id": "bbbe0ebd-fff8-44e1-adf1-eecdaef5814f",
   "metadata": {
    "execution": {
     "iopub.execute_input": "2022-01-05T20:31:34.418806Z",
     "iopub.status.busy": "2022-01-05T20:31:34.418806Z",
     "iopub.status.idle": "2022-01-05T20:31:34.433803Z",
     "shell.execute_reply": "2022-01-05T20:31:34.432980Z",
     "shell.execute_reply.started": "2022-01-05T20:31:34.418806Z"
    }
   },
   "outputs": [],
   "source": [
    "def get_unified_polygon(gdf,\n",
    "                        crs,\n",
    "                        buffer_threshold):\n",
    "    \"\"\"\n",
    "    Union all geometries together and buffer the dissolved boundaries.\n",
    "    Note: The buffer radius must be in the units of the coordinate reference system.\n",
    "\n",
    "    :param gdf: A GeoDataFrame.\n",
    "    :param crs: Coordinate Reference System in \"EPSG:XXXX\" format.\n",
    "    :param buffer_threshold: Buffer distance in the unit of CRS.\n",
    "    :return: A unified polygon geometry created from the given GeoDataFrame.\n",
    "    \"\"\"\n",
    "\n",
    "    gdf = gdf.to_crs(crs)\n",
    "    gdf.loc[:, 'geometry'] = (gdf.loc[:, 'geometry']\n",
    "                              .apply(lambda x: box(x.bounds[0], x.bounds[1], x.bounds[2], x.bounds[3])))\n",
    "    return gdf.unary_union.buffer(buffer_threshold)\n"
   ]
  },
  {
   "cell_type": "code",
   "execution_count": 15,
   "id": "54e3fa9e-1625-4ca2-aff2-7fc42e027e07",
   "metadata": {
    "execution": {
     "iopub.execute_input": "2022-01-05T20:31:48.829357Z",
     "iopub.status.busy": "2022-01-05T20:31:48.829357Z",
     "iopub.status.idle": "2022-01-05T20:31:50.770283Z",
     "shell.execute_reply": "2022-01-05T20:31:50.770283Z",
     "shell.execute_reply.started": "2022-01-05T20:31:48.829357Z"
    },
    "tags": []
   },
   "outputs": [],
   "source": [
    "polygon_geometry = get_unified_polygon(gis_routes, CRS, buffer_threshold = 0.005)"
   ]
  },
  {
   "cell_type": "markdown",
   "id": "e3abc5e9-9ed1-45f7-a617-73a69ab5d876",
   "metadata": {},
   "source": [
    "### Download OSM data\n",
    "- Run this function to download and create a graph object for the given boundary. \n",
    "- The function downloads the filtered network excluding some link types that are not valid for transit route shape matching.\n",
    "- If some parts of the data or the entire data are available in the cache from a previous query, the function reads the data from that cache folder bypassing the download step.\n",
    "- By default, this function prints logs in the console. However, this can be controled using the `log_console` argument.\n",
    "- Using the cache, it takes ~ 7 mins to create and simplyfy the graph. Downloading will take additional time and it may vary as the API requests are sent at random interval to avoid overflow. "
   ]
  },
  {
   "cell_type": "code",
   "execution_count": 21,
   "id": "b29a3474-9e49-4154-b5e4-2cfb4a86c9f9",
   "metadata": {
    "execution": {
     "iopub.execute_input": "2022-01-05T20:32:50.659052Z",
     "iopub.status.busy": "2022-01-05T20:32:50.659052Z",
     "iopub.status.idle": "2022-01-05T20:32:50.682051Z",
     "shell.execute_reply": "2022-01-05T20:32:50.680052Z",
     "shell.execute_reply.started": "2022-01-05T20:32:50.659052Z"
    },
    "tags": []
   },
   "outputs": [],
   "source": [
    "def download_osm_for_transit(polygon_geometry, log_console=True):\n",
    "    \"\"\"\n",
    "    Download the OSM street network for given polygon\n",
    "    and creates a Networkx graph object.\n",
    "\n",
    "    :param polygon_geometry: A Shapely polygon object that defines the area for map extraction.\n",
    "    :param log_console: Boolean indicator to specify if OSM logs should be printed on the console.\n",
    "    :return: A Networkx graph object with street network.\n",
    "    \"\"\"\n",
    "\n",
    "    custom_filter = (f'[\"highway\"][\"area\"!~\"yes\"][\"highway\"!~\"cycleway|footway|path|pedestrian|steps|track|'\n",
    "                     f'corridor|elevator|escalator|proposed|construction|bridleway|abandoned|platform|raceway\"]'\n",
    "                     f'[\"motor_vehicle\"!~\"no\"][\"motorcar\"!~\"no\"]'\n",
    "                     f'[\"service\"!~\"emergency_access\"]')\n",
    "\n",
    "    ox.config(use_cache=True, log_console=log_console)\n",
    "    return ox.graph_from_polygon(polygon_geometry,\n",
    "                                 network_type='drive_service',\n",
    "                                 custom_filter=custom_filter)"
   ]
  },
  {
   "cell_type": "code",
   "execution_count": 24,
   "id": "8acd6980-364a-4005-9230-c1e39915816e",
   "metadata": {
    "execution": {
     "iopub.execute_input": "2022-01-05T20:39:30.817045Z",
     "iopub.status.busy": "2022-01-05T20:39:30.816044Z",
     "iopub.status.idle": "2022-01-05T20:48:20.803982Z",
     "shell.execute_reply": "2022-01-05T20:48:20.803158Z",
     "shell.execute_reply.started": "2022-01-05T20:39:30.817045Z"
    },
    "tags": []
   },
   "outputs": [],
   "source": [
    "G = download_osm_for_transit(polygon_geometry, log_console = True)"
   ]
  },
  {
   "cell_type": "markdown",
   "id": "a50a222b-b22b-4b7d-b685-5115b63d7b80",
   "metadata": {},
   "source": [
    "### Export OSM Graph and Shapefiles\n",
    "- Export the graph object of OSM street network in `.graphml` format."
   ]
  },
  {
   "cell_type": "code",
   "execution_count": 28,
   "id": "3a365d68-7de5-44ce-9ba3-81e6cf277553",
   "metadata": {
    "execution": {
     "iopub.execute_input": "2022-01-05T20:49:25.143306Z",
     "iopub.status.busy": "2022-01-05T20:49:25.142304Z",
     "iopub.status.idle": "2022-01-05T20:49:25.153989Z",
     "shell.execute_reply": "2022-01-05T20:49:25.153030Z",
     "shell.execute_reply.started": "2022-01-05T20:49:25.143306Z"
    },
    "tags": []
   },
   "outputs": [],
   "source": [
    "def get_today():\n",
    "    \"\"\"\n",
    "    Get current date.\n",
    "    :return: Current date in YYYYMMDD format.\n",
    "    \"\"\"\n",
    "    return date.today().strftime(\"%Y%m%d\")\n",
    "\n",
    "def export_osm_graph_shapefiles(graph_obj,\n",
    "                                output_path):\n",
    "    \"\"\"\n",
    "    Export OSM graph and nodes/edges GeoDataFrames if specified.\n",
    "    :param graph_obj: A graph object of OSM street network.\n",
    "    :param output_path: Output directory.\n",
    "    :return: None\n",
    "    \"\"\"\n",
    "    ox.save_graphml(graph_obj, os.path.join(output_path, f'{get_today()}_osm_graph.graphml'))\n",
    "    return None"
   ]
  },
  {
   "cell_type": "code",
   "execution_count": 29,
   "id": "a5951c5f-5816-471e-84b4-0032fcea766b",
   "metadata": {
    "execution": {
     "iopub.execute_input": "2022-01-05T20:49:26.127693Z",
     "iopub.status.busy": "2022-01-05T20:49:26.126672Z",
     "iopub.status.idle": "2022-01-05T20:50:44.824705Z",
     "shell.execute_reply": "2022-01-05T20:50:44.823693Z",
     "shell.execute_reply.started": "2022-01-05T20:49:26.127693Z"
    },
    "tags": []
   },
   "outputs": [],
   "source": [
    "export_osm_graph_shapefiles(graph_obj = G, \n",
    "                            output_path = output_dir)"
   ]
  },
  {
   "cell_type": "code",
   "execution_count": null,
   "id": "b26e3568-3cd6-4b00-8d1d-522e6b206182",
   "metadata": {},
   "outputs": [],
   "source": []
  }
 ],
 "metadata": {
  "kernelspec": {
   "display_name": "Python 3 (ipykernel)",
   "language": "python",
   "name": "python3"
  },
  "language_info": {
   "codemirror_mode": {
    "name": "ipython",
    "version": 3
   },
   "file_extension": ".py",
   "mimetype": "text/x-python",
   "name": "python",
   "nbconvert_exporter": "python",
   "pygments_lexer": "ipython3",
   "version": "3.8.12"
  }
 },
 "nbformat": 4,
 "nbformat_minor": 5
}
