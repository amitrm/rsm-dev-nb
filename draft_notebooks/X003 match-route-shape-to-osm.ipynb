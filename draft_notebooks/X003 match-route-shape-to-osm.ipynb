{
 "cells": [
  {
   "cell_type": "markdown",
   "id": "5c442fda-9b94-4955-a292-e25224a7e799",
   "metadata": {},
   "source": [
    "### Packages"
   ]
  },
  {
   "cell_type": "code",
   "execution_count": 1,
   "id": "36560714-01c7-456d-bb67-8a17feb6a5ae",
   "metadata": {
    "execution": {
     "iopub.execute_input": "2022-01-05T18:31:06.637007Z",
     "iopub.status.busy": "2022-01-05T18:31:06.637007Z",
     "iopub.status.idle": "2022-01-05T18:31:09.394953Z",
     "shell.execute_reply": "2022-01-05T18:31:09.393986Z",
     "shell.execute_reply.started": "2022-01-05T18:31:06.637007Z"
    },
    "tags": []
   },
   "outputs": [],
   "source": [
    "import osmnx as ox\n",
    "import os\n",
    "import warnings\n",
    "import geopandas as gpd\n",
    "import pandas as pd\n",
    "import numpy as np\n",
    "import networkx as nx\n",
    "#nx.shortest_path\n",
    "\n",
    "#ox.distance.nearest_edges\n",
    "warnings.filterwarnings('ignore')\n",
    "pd.options.display.max_columns = 100\n",
    "pd.options.display.max_rows = None"
   ]
  },
  {
   "cell_type": "markdown",
   "id": "12e7f66f-b008-4535-9201-6c17e03231cd",
   "metadata": {},
   "source": [
    "### Directory and parameters"
   ]
  },
  {
   "cell_type": "code",
   "execution_count": 4,
   "id": "35c5e8eb-4f02-415c-8ee8-1e81ea5e5a85",
   "metadata": {
    "execution": {
     "iopub.execute_input": "2022-01-05T18:34:42.611347Z",
     "iopub.status.busy": "2022-01-05T18:34:42.611347Z",
     "iopub.status.idle": "2022-01-05T18:34:42.629347Z",
     "shell.execute_reply": "2022-01-05T18:34:42.628346Z",
     "shell.execute_reply.started": "2022-01-05T18:34:42.611347Z"
    },
    "tags": []
   },
   "outputs": [],
   "source": [
    "data_dir = os.path.join('../data')\n",
    "\n",
    "CRS = 'EPSG:4326'\n",
    "CRS_METER = 'EPSG:3857'\n",
    "route_pattern_id = 'G801'"
   ]
  },
  {
   "cell_type": "markdown",
   "id": "250044cd-8293-40ed-9b48-f094511cefb9",
   "metadata": {},
   "source": [
    "### Load Data"
   ]
  },
  {
   "cell_type": "code",
   "execution_count": 9,
   "id": "8894d294-3663-479e-85b5-0c4b587a48be",
   "metadata": {
    "execution": {
     "iopub.execute_input": "2022-01-05T18:48:47.383018Z",
     "iopub.status.busy": "2022-01-05T18:48:47.383018Z",
     "iopub.status.idle": "2022-01-05T18:48:47.397019Z",
     "shell.execute_reply": "2022-01-05T18:48:47.397019Z",
     "shell.execute_reply.started": "2022-01-05T18:48:47.383018Z"
    },
    "tags": []
   },
   "outputs": [],
   "source": [
    "def create_point_gdf(df, lon, lat, crs = 'EPSG:4326'):\n",
    "    \"\"\"\n",
    "    Converts a DataFrame to a GeoDataFrame when\n",
    "    column names for longitude and latitude are given.\n",
    "    \"\"\"\n",
    "    return gpd.GeoDataFrame(df, geometry = gpd.points_from_xy(df[lon], df[lat]), crs = crs)"
   ]
  },
  {
   "cell_type": "code",
   "execution_count": 14,
   "id": "5e7e77f3-4768-41f7-8400-bfaa723bbd5a",
   "metadata": {
    "execution": {
     "iopub.execute_input": "2022-01-05T18:49:20.320736Z",
     "iopub.status.busy": "2022-01-05T18:49:20.320736Z",
     "iopub.status.idle": "2022-01-05T18:49:20.330734Z",
     "shell.execute_reply": "2022-01-05T18:49:20.330734Z",
     "shell.execute_reply.started": "2022-01-05T18:49:20.320736Z"
    },
    "tags": []
   },
   "outputs": [],
   "source": [
    "def read_stop_sequence(stop_seq_csv, crs, route_pattern_id):\n",
    "    stop_seq = pd.read_csv(stop_seq_csv)\n",
    "    stop_seq.columns = [c.lower() for c in stop_seq.columns]\n",
    "    stop_seq['shape_id'] = stop_seq['pattern_id']\n",
    "    stop_seq = stop_seq[['route_id', 'pattern_id', 'shape_id', 'stopid', 'stop_sequence', 'longitude', 'latitude', 'geodescription']]\n",
    "    stop_seq = create_point_gdf(stop_seq, lon = 'longitude', lat = 'latitude', crs = crs)\n",
    "    stop_seq = stop_seq[stop_seq.shape_id == route_pattern_id].sort_values(by = ['stop_sequence'])\n",
    "    return stop_seq"
   ]
  },
  {
   "cell_type": "code",
   "execution_count": 25,
   "id": "390b89ab-f6e8-4dd2-8271-784f8737c09c",
   "metadata": {
    "execution": {
     "iopub.execute_input": "2022-01-05T18:57:39.811657Z",
     "iopub.status.busy": "2022-01-05T18:57:39.810634Z",
     "iopub.status.idle": "2022-01-05T18:57:39.883621Z",
     "shell.execute_reply": "2022-01-05T18:57:39.882657Z",
     "shell.execute_reply.started": "2022-01-05T18:57:39.811657Z"
    },
    "tags": []
   },
   "outputs": [],
   "source": [
    "G = ox.load_graphml(os.path.join(data_dir, 'interim', f'{route_pattern_id}_SUBGRAPH_HARDCLIPPED.graphml'))\n",
    "# Add bearing\n",
    "G = ox.add_edge_bearings(G)\n",
    "\n",
    "nodes, edges = ox.graph_to_gdfs(G)\n",
    "edges = edges.reset_index()"
   ]
  },
  {
   "cell_type": "code",
   "execution_count": 26,
   "id": "fc4e6f1c-cba0-41df-97e6-b4f2462f9fa7",
   "metadata": {
    "execution": {
     "iopub.execute_input": "2022-01-05T18:57:42.886295Z",
     "iopub.status.busy": "2022-01-05T18:57:42.886295Z",
     "iopub.status.idle": "2022-01-05T18:57:43.981630Z",
     "shell.execute_reply": "2022-01-05T18:57:43.979643Z",
     "shell.execute_reply.started": "2022-01-05T18:57:42.886295Z"
    },
    "tags": []
   },
   "outputs": [],
   "source": [
    "route_stop_seq = read_stop_sequence(os.path.join(data_dir, 'stop_sequence', f'bus_net_stop_sequence.csv'), CRS, route_pattern_id)\n",
    "shapes = gpd.read_file(os.path.join(data_dir, 'interim', f'{route_pattern_id}_ROUTE_SHAPES.geojson'))"
   ]
  },
  {
   "cell_type": "markdown",
   "id": "098031bc-1537-4ada-ae59-4b8c5f3eccd8",
   "metadata": {},
   "source": [
    "### Attach origin and destination edge for each shape-shape path"
   ]
  },
  {
   "cell_type": "code",
   "execution_count": 27,
   "id": "b047336f-8db7-4e3e-8ba4-127f696effbc",
   "metadata": {
    "execution": {
     "iopub.execute_input": "2022-01-05T18:57:50.347924Z",
     "iopub.status.busy": "2022-01-05T18:57:50.346923Z",
     "iopub.status.idle": "2022-01-05T18:58:20.640126Z",
     "shell.execute_reply": "2022-01-05T18:58:20.639178Z",
     "shell.execute_reply.started": "2022-01-05T18:57:50.347924Z"
    },
    "tags": []
   },
   "outputs": [],
   "source": [
    "shapes['shape_pt_lat_next'] = shapes['shape_pt_lat'].shift(-1)\n",
    "shapes['shape_pt_lon_next'] = shapes['shape_pt_lon'].shift(-1)\n",
    "shapes = shapes.dropna(subset = ['shape_pt_lat_next', 'shape_pt_lon_next'])\n",
    "shapes['orig_edge'] = ox.nearest_edges(G, shapes.shape_pt_lon, shapes.shape_pt_lat)\n",
    "shapes['dest_edge'] = ox.nearest_edges(G, shapes.shape_pt_lon_next, shapes.shape_pt_lat_next)\n",
    "shapes['shape_bearing'] = ox.bearing.calculate_bearing(shapes.shape_pt_lat, shapes.shape_pt_lon, shapes.shape_pt_lat_next, shapes.shape_pt_lon_next)"
   ]
  },
  {
   "cell_type": "code",
   "execution_count": 28,
   "id": "70f0cc5e-7418-44c4-a55a-587fdc00e45f",
   "metadata": {
    "execution": {
     "iopub.execute_input": "2022-01-05T18:58:26.941104Z",
     "iopub.status.busy": "2022-01-05T18:58:26.941104Z",
     "iopub.status.idle": "2022-01-05T18:58:26.963610Z",
     "shell.execute_reply": "2022-01-05T18:58:26.962631Z",
     "shell.execute_reply.started": "2022-01-05T18:58:26.941104Z"
    },
    "tags": []
   },
   "outputs": [
    {
     "data": {
      "text/html": [
       "<div>\n",
       "<style scoped>\n",
       "    .dataframe tbody tr th:only-of-type {\n",
       "        vertical-align: middle;\n",
       "    }\n",
       "\n",
       "    .dataframe tbody tr th {\n",
       "        vertical-align: top;\n",
       "    }\n",
       "\n",
       "    .dataframe thead th {\n",
       "        text-align: right;\n",
       "    }\n",
       "</style>\n",
       "<table border=\"1\" class=\"dataframe\">\n",
       "  <thead>\n",
       "    <tr style=\"text-align: right;\">\n",
       "      <th></th>\n",
       "      <th>shape_id</th>\n",
       "      <th>shape_pt_lat</th>\n",
       "      <th>shape_pt_lon</th>\n",
       "      <th>shape_pt_sequence</th>\n",
       "      <th>shape_dist_traveled</th>\n",
       "      <th>geometry</th>\n",
       "      <th>shape_pt_lat_next</th>\n",
       "      <th>shape_pt_lon_next</th>\n",
       "      <th>orig_edge</th>\n",
       "      <th>dest_edge</th>\n",
       "      <th>shape_bearing</th>\n",
       "    </tr>\n",
       "  </thead>\n",
       "  <tbody>\n",
       "    <tr>\n",
       "      <th>0</th>\n",
       "      <td>G801</td>\n",
       "      <td>38.945938</td>\n",
       "      <td>-76.977158</td>\n",
       "      <td>10001</td>\n",
       "      <td>None</td>\n",
       "      <td>POINT (-76.97716 38.94594)</td>\n",
       "      <td>38.945808</td>\n",
       "      <td>-76.976990</td>\n",
       "      <td>(7800984659, 7521666505, 0)</td>\n",
       "      <td>(7800984659, 7521666505, 0)</td>\n",
       "      <td>134.854798</td>\n",
       "    </tr>\n",
       "    <tr>\n",
       "      <th>1</th>\n",
       "      <td>G801</td>\n",
       "      <td>38.945808</td>\n",
       "      <td>-76.976990</td>\n",
       "      <td>10002</td>\n",
       "      <td>None</td>\n",
       "      <td>POINT (-76.97699 38.94581)</td>\n",
       "      <td>38.945675</td>\n",
       "      <td>-76.976822</td>\n",
       "      <td>(7800984659, 7521666505, 0)</td>\n",
       "      <td>(7521666505, 7800984659, 0)</td>\n",
       "      <td>135.508310</td>\n",
       "    </tr>\n",
       "    <tr>\n",
       "      <th>2</th>\n",
       "      <td>G801</td>\n",
       "      <td>38.945675</td>\n",
       "      <td>-76.976822</td>\n",
       "      <td>10003</td>\n",
       "      <td>None</td>\n",
       "      <td>POINT (-76.97682 38.94568)</td>\n",
       "      <td>38.945541</td>\n",
       "      <td>-76.976654</td>\n",
       "      <td>(7521666505, 7800984659, 0)</td>\n",
       "      <td>(7800984659, 7521666505, 0)</td>\n",
       "      <td>135.722798</td>\n",
       "    </tr>\n",
       "    <tr>\n",
       "      <th>3</th>\n",
       "      <td>G801</td>\n",
       "      <td>38.945541</td>\n",
       "      <td>-76.976654</td>\n",
       "      <td>10004</td>\n",
       "      <td>None</td>\n",
       "      <td>POINT (-76.97665 38.94554)</td>\n",
       "      <td>38.945408</td>\n",
       "      <td>-76.976486</td>\n",
       "      <td>(7800984659, 7521666505, 0)</td>\n",
       "      <td>(7800984659, 7521666505, 0)</td>\n",
       "      <td>135.508202</td>\n",
       "    </tr>\n",
       "    <tr>\n",
       "      <th>4</th>\n",
       "      <td>G801</td>\n",
       "      <td>38.945408</td>\n",
       "      <td>-76.976486</td>\n",
       "      <td>10005</td>\n",
       "      <td>None</td>\n",
       "      <td>POINT (-76.97649 38.94541)</td>\n",
       "      <td>38.945274</td>\n",
       "      <td>-76.976318</td>\n",
       "      <td>(7800984659, 7521666505, 0)</td>\n",
       "      <td>(7800984659, 7521666505, 0)</td>\n",
       "      <td>135.722690</td>\n",
       "    </tr>\n",
       "  </tbody>\n",
       "</table>\n",
       "</div>"
      ],
      "text/plain": [
       "  shape_id  shape_pt_lat  shape_pt_lon  shape_pt_sequence shape_dist_traveled  \\\n",
       "0     G801     38.945938    -76.977158              10001                None   \n",
       "1     G801     38.945808    -76.976990              10002                None   \n",
       "2     G801     38.945675    -76.976822              10003                None   \n",
       "3     G801     38.945541    -76.976654              10004                None   \n",
       "4     G801     38.945408    -76.976486              10005                None   \n",
       "\n",
       "                     geometry  shape_pt_lat_next  shape_pt_lon_next  \\\n",
       "0  POINT (-76.97716 38.94594)          38.945808         -76.976990   \n",
       "1  POINT (-76.97699 38.94581)          38.945675         -76.976822   \n",
       "2  POINT (-76.97682 38.94568)          38.945541         -76.976654   \n",
       "3  POINT (-76.97665 38.94554)          38.945408         -76.976486   \n",
       "4  POINT (-76.97649 38.94541)          38.945274         -76.976318   \n",
       "\n",
       "                     orig_edge                    dest_edge  shape_bearing  \n",
       "0  (7800984659, 7521666505, 0)  (7800984659, 7521666505, 0)     134.854798  \n",
       "1  (7800984659, 7521666505, 0)  (7521666505, 7800984659, 0)     135.508310  \n",
       "2  (7521666505, 7800984659, 0)  (7800984659, 7521666505, 0)     135.722798  \n",
       "3  (7800984659, 7521666505, 0)  (7800984659, 7521666505, 0)     135.508202  \n",
       "4  (7800984659, 7521666505, 0)  (7800984659, 7521666505, 0)     135.722690  "
      ]
     },
     "execution_count": 28,
     "metadata": {},
     "output_type": "execute_result"
    }
   ],
   "source": [
    "shapes.head()"
   ]
  },
  {
   "cell_type": "markdown",
   "id": "549c4393-1414-4186-aeef-9e1d51ee853e",
   "metadata": {},
   "source": [
    "### Compare bearing to correct the direction of OSM edges"
   ]
  },
  {
   "cell_type": "code",
   "execution_count": 29,
   "id": "5ad963cd-2daf-49f5-8d54-1a1e1c2dd2da",
   "metadata": {
    "execution": {
     "iopub.execute_input": "2022-01-05T18:59:22.923059Z",
     "iopub.status.busy": "2022-01-05T18:59:22.923059Z",
     "iopub.status.idle": "2022-01-05T18:59:22.959706Z",
     "shell.execute_reply": "2022-01-05T18:59:22.958725Z",
     "shell.execute_reply.started": "2022-01-05T18:59:22.923059Z"
    },
    "tags": []
   },
   "outputs": [],
   "source": [
    "shapes['orig_u'] = shapes['orig_edge'].str[0]\n",
    "shapes['orig_v'] = shapes['orig_edge'].str[1]\n",
    "\n",
    "shapes['rev_orig_u'] = shapes['orig_edge'].str[1]\n",
    "shapes['rev_orig_v'] = shapes['orig_edge'].str[0]\n",
    "\n",
    "shapes['dest_u'] = shapes['dest_edge'].str[0]\n",
    "shapes['dest_v'] = shapes['dest_edge'].str[1]\n",
    "\n",
    "shapes['rev_dest_u'] = shapes['dest_edge'].str[1]\n",
    "shapes['rev_dest_v'] = shapes['dest_edge'].str[0]\n",
    "\n",
    "shapes['rev_orig_edge'] = [*zip(shapes.rev_orig_u, shapes.rev_orig_v, [0] * len(shapes.rev_orig_v))]\n",
    "shapes['rev_dest_edge'] = [*zip(shapes.rev_dest_u, shapes.rev_dest_v, [0] * len(shapes.rev_dest_v))]"
   ]
  },
  {
   "cell_type": "code",
   "execution_count": 30,
   "id": "aa4e9ee1-3803-4f03-ac5f-fb7fb63349d2",
   "metadata": {
    "execution": {
     "iopub.execute_input": "2022-01-05T18:59:25.008669Z",
     "iopub.status.busy": "2022-01-05T18:59:25.007684Z",
     "iopub.status.idle": "2022-01-05T18:59:25.037681Z",
     "shell.execute_reply": "2022-01-05T18:59:25.036684Z",
     "shell.execute_reply.started": "2022-01-05T18:59:25.008669Z"
    },
    "tags": []
   },
   "outputs": [],
   "source": [
    "shapes = shapes.merge(edges[['u', 'v', 'bearing']].rename(columns = {'u': 'orig_u', 'v':'orig_v', 'bearing': 'orig_bearing'}),\n",
    "                      on = ['orig_u', 'orig_v'],\n",
    "                      how = 'left')\n",
    "\n",
    "shapes = shapes.merge(edges[['u', 'v', 'bearing']].rename(columns = {'u': 'rev_orig_u', 'v':'rev_orig_v', 'bearing': 'rev_orig_bearing'}),\n",
    "                      on = ['rev_orig_u', 'rev_orig_v'],\n",
    "                      how = 'left')"
   ]
  },
  {
   "cell_type": "code",
   "execution_count": 32,
   "id": "2bd56011-b1fd-47cc-ab58-3c02e07878d8",
   "metadata": {
    "execution": {
     "iopub.execute_input": "2022-01-05T18:59:41.138385Z",
     "iopub.status.busy": "2022-01-05T18:59:41.138385Z",
     "iopub.status.idle": "2022-01-05T18:59:41.147787Z",
     "shell.execute_reply": "2022-01-05T18:59:41.147787Z",
     "shell.execute_reply.started": "2022-01-05T18:59:41.138385Z"
    },
    "tags": []
   },
   "outputs": [],
   "source": [
    "def get_bearing_difference(b1, b2):\n",
    "    b = abs(b1 - b2) % 360\n",
    "    if b > 180:\n",
    "        return 360 - b\n",
    "    else: return b"
   ]
  },
  {
   "cell_type": "code",
   "execution_count": 33,
   "id": "f1bf0e2f-aae0-41fc-9d8c-62dd37499f62",
   "metadata": {
    "execution": {
     "iopub.execute_input": "2022-01-05T18:59:41.614598Z",
     "iopub.status.busy": "2022-01-05T18:59:41.614598Z",
     "iopub.status.idle": "2022-01-05T18:59:41.628591Z",
     "shell.execute_reply": "2022-01-05T18:59:41.628591Z",
     "shell.execute_reply.started": "2022-01-05T18:59:41.614598Z"
    },
    "tags": []
   },
   "outputs": [],
   "source": [
    "shapes['bearing_diff_orig'] = np.vectorize(get_bearing_difference)(shapes.shape_bearing, shapes.orig_bearing)\n",
    "shapes['bearing_diff_rev_orig'] = np.vectorize(get_bearing_difference)(shapes.shape_bearing, shapes.rev_orig_bearing)\n",
    "shapes['corrected_orig_edge'] = np.where((shapes.bearing_diff_orig <= shapes.bearing_diff_rev_orig), shapes.orig_edge, shapes.rev_orig_edge)\n",
    "shapes.loc[shapes.bearing_diff_rev_orig.isnull(), 'corrected_orig_edge'] = shapes.orig_edge"
   ]
  },
  {
   "cell_type": "code",
   "execution_count": 34,
   "id": "8a849804-9265-4713-8e4a-df30f476fd80",
   "metadata": {
    "execution": {
     "iopub.execute_input": "2022-01-05T18:59:47.111066Z",
     "iopub.status.busy": "2022-01-05T18:59:47.110065Z",
     "iopub.status.idle": "2022-01-05T18:59:47.146111Z",
     "shell.execute_reply": "2022-01-05T18:59:47.146111Z",
     "shell.execute_reply.started": "2022-01-05T18:59:47.111066Z"
    },
    "tags": []
   },
   "outputs": [],
   "source": [
    "shapes = shapes.merge(edges[['u', 'v', 'bearing']].rename(columns = {'u': 'dest_u', 'v':'dest_v', 'bearing': 'dest_bearing'}),\n",
    "                      on = ['dest_u', 'dest_v'],\n",
    "                      how = 'left')\n",
    "\n",
    "shapes = shapes.merge(edges[['u', 'v', 'bearing']].rename(columns = {'u': 'rev_dest_u', 'v':'rev_dest_v', 'bearing': 'rev_dest_bearing'}),\n",
    "                      on = ['rev_dest_u', 'rev_dest_v'],\n",
    "                      how = 'left')"
   ]
  },
  {
   "cell_type": "code",
   "execution_count": 35,
   "id": "33db9ce0-6596-4c80-bada-e327f210a2dd",
   "metadata": {
    "execution": {
     "iopub.execute_input": "2022-01-05T18:59:48.395754Z",
     "iopub.status.busy": "2022-01-05T18:59:48.395754Z",
     "iopub.status.idle": "2022-01-05T18:59:48.412797Z",
     "shell.execute_reply": "2022-01-05T18:59:48.411844Z",
     "shell.execute_reply.started": "2022-01-05T18:59:48.395754Z"
    },
    "tags": []
   },
   "outputs": [],
   "source": [
    "\n",
    "shapes['bearing_diff_dest'] = np.vectorize(get_bearing_difference)(shapes.shape_bearing, shapes.dest_bearing)\n",
    "shapes['bearing_diff_rev_dest'] = np.vectorize(get_bearing_difference)(shapes.shape_bearing, shapes.rev_dest_bearing)\n",
    "shapes['corrected_dest_edge'] = np.where((shapes.bearing_diff_dest <= shapes.bearing_diff_rev_dest), shapes.dest_edge, shapes.rev_dest_edge)\n",
    "shapes.loc[shapes.bearing_diff_rev_dest.isnull(), 'corrected_dest_edge'] = shapes.dest_edge"
   ]
  },
  {
   "cell_type": "code",
   "execution_count": 36,
   "id": "fa5744da-8861-47fa-905f-c72b4bb70962",
   "metadata": {
    "execution": {
     "iopub.execute_input": "2022-01-05T18:59:51.396806Z",
     "iopub.status.busy": "2022-01-05T18:59:51.396806Z",
     "iopub.status.idle": "2022-01-05T18:59:51.413168Z",
     "shell.execute_reply": "2022-01-05T18:59:51.413168Z",
     "shell.execute_reply.started": "2022-01-05T18:59:51.396806Z"
    },
    "tags": []
   },
   "outputs": [],
   "source": [
    "shapes['single_edge'] = 1 * (shapes.corrected_orig_edge == shapes.corrected_dest_edge)\n",
    "shapes['corrected_u'] = shapes['corrected_orig_edge'].str[0]\n",
    "shapes['corrected_v'] = shapes['corrected_dest_edge'].str[1]"
   ]
  },
  {
   "cell_type": "markdown",
   "id": "4b298b35-8ba9-4204-b7bf-af462532315e",
   "metadata": {},
   "source": [
    "### Get shortest path for each shape-shape in sequential order and keep unique segments"
   ]
  },
  {
   "cell_type": "code",
   "execution_count": 40,
   "id": "d7afcad0-aa83-41d7-86a1-b8afc025dcc5",
   "metadata": {
    "execution": {
     "iopub.execute_input": "2022-01-05T19:05:13.898680Z",
     "iopub.status.busy": "2022-01-05T19:05:13.897913Z",
     "iopub.status.idle": "2022-01-05T19:05:13.926680Z",
     "shell.execute_reply": "2022-01-05T19:05:13.925680Z",
     "shell.execute_reply.started": "2022-01-05T19:05:13.898680Z"
    },
    "tags": []
   },
   "outputs": [],
   "source": [
    "od_shapes = shapes[['corrected_u', 'corrected_v']].drop_duplicates()\n",
    "od_shapes['order'] = list(range(1, len(od_shapes) + 1))\n",
    "od_shapes['u'] = ox.shortest_path(G, od_shapes.corrected_u, od_shapes.corrected_v)"
   ]
  },
  {
   "cell_type": "code",
   "execution_count": 41,
   "id": "b743ed06-460b-4fb1-8598-29ad4ecfbdae",
   "metadata": {
    "execution": {
     "iopub.execute_input": "2022-01-05T19:05:14.585803Z",
     "iopub.status.busy": "2022-01-05T19:05:14.585803Z",
     "iopub.status.idle": "2022-01-05T19:05:14.603802Z",
     "shell.execute_reply": "2022-01-05T19:05:14.602801Z",
     "shell.execute_reply.started": "2022-01-05T19:05:14.585803Z"
    },
    "tags": []
   },
   "outputs": [],
   "source": [
    "od_shapes = od_shapes.explode('u') #.drop_duplicates(subset = 'node_list')\n",
    "od_shapes['v'] = od_shapes.u.shift(-1)\n",
    "od_shapes['remove_tag'] = 1 * (od_shapes.order != od_shapes.order.shift(-1))\n",
    "od_shapes = od_shapes[od_shapes.remove_tag != 1]\n",
    "od_shapes = od_shapes.drop_duplicates(subset = ['u', 'v'])"
   ]
  },
  {
   "cell_type": "markdown",
   "id": "5620bc04-6ea7-402c-ae89-5ed1b0788dc5",
   "metadata": {},
   "source": [
    "### Get the nodes in correct order using forward search method"
   ]
  },
  {
   "cell_type": "code",
   "execution_count": 43,
   "id": "2dbdc98f-18ed-48ef-8b56-31c30b56ec0e",
   "metadata": {
    "execution": {
     "iopub.execute_input": "2022-01-05T19:06:07.857100Z",
     "iopub.status.busy": "2022-01-05T19:06:07.857100Z",
     "iopub.status.idle": "2022-01-05T19:06:07.873104Z",
     "shell.execute_reply": "2022-01-05T19:06:07.872099Z",
     "shell.execute_reply.started": "2022-01-05T19:06:07.857100Z"
    },
    "tags": []
   },
   "outputs": [],
   "source": [
    "path = list(zip(od_shapes.u, od_shapes.v))\n",
    "\n",
    "searchables = path[1:].copy()\n",
    "segment = [path[0]]\n",
    "i = path[0]\n",
    "\n",
    "\n",
    "def find_next(m, s):\n",
    "    for n in s:\n",
    "        if m[1] == n[0]:\n",
    "            return n\n",
    "\n",
    "\n",
    "while len(searchables) > 0:\n",
    "    #print(f'Current Segment: {i}')\n",
    "    #print(f'Available options: {searchables}')\n",
    "    j = find_next(i, searchables)\n",
    "    if j is not None:\n",
    "        segment.append(j)\n",
    "        i = j\n",
    "        searchables = searchables[1:]\n",
    "        # searchables.remove(i)\n",
    "        #print(f'Next Segment: {j}')\n",
    "    else:\n",
    "        segment = segment[:-1]\n",
    "        i = segment[-1]"
   ]
  },
  {
   "cell_type": "markdown",
   "id": "6600a6fa-c762-456d-9413-570e59193de7",
   "metadata": {},
   "source": [
    "### Construct route path"
   ]
  },
  {
   "cell_type": "code",
   "execution_count": 125,
   "id": "1f46e51a-8c1c-41a4-b098-8da38ba7da02",
   "metadata": {
    "execution": {
     "iopub.execute_input": "2022-01-05T19:42:21.636568Z",
     "iopub.status.busy": "2022-01-05T19:42:21.635567Z",
     "iopub.status.idle": "2022-01-05T19:42:21.652566Z",
     "shell.execute_reply": "2022-01-05T19:42:21.651779Z",
     "shell.execute_reply.started": "2022-01-05T19:42:21.636568Z"
    },
    "tags": []
   },
   "outputs": [],
   "source": [
    "route_path = pd.DataFrame({'u': [x[0] for x in segment], 'v': [x[1] for x in segment]})\n",
    "\n",
    "route_path['edge_code'] = route_path.u.astype(str) + '-' + route_path.v.astype(str)\n",
    "route_path['edge_order'] = [*range(1, len(route_path) + 1)]"
   ]
  },
  {
   "cell_type": "code",
   "execution_count": 126,
   "id": "52481e6c-ae72-4c38-91c9-a45ee573d3d6",
   "metadata": {
    "execution": {
     "iopub.execute_input": "2022-01-05T19:42:21.862168Z",
     "iopub.status.busy": "2022-01-05T19:42:21.862168Z",
     "iopub.status.idle": "2022-01-05T19:42:21.920164Z",
     "shell.execute_reply": "2022-01-05T19:42:21.919301Z",
     "shell.execute_reply.started": "2022-01-05T19:42:21.862168Z"
    },
    "tags": []
   },
   "outputs": [],
   "source": [
    "route_path = edges[['u', 'v', 'geometry']].to_crs(CRS_METER).merge(route_path, on = ['u', 'v'], how = 'right').drop_duplicates('geometry')"
   ]
  },
  {
   "cell_type": "code",
   "execution_count": 128,
   "id": "da14c907-4f4b-4d73-9dcb-0850a337282c",
   "metadata": {
    "execution": {
     "iopub.execute_input": "2022-01-05T19:42:41.729990Z",
     "iopub.status.busy": "2022-01-05T19:42:41.728986Z",
     "iopub.status.idle": "2022-01-05T19:42:41.741053Z",
     "shell.execute_reply": "2022-01-05T19:42:41.741053Z",
     "shell.execute_reply.started": "2022-01-05T19:42:41.729990Z"
    },
    "tags": []
   },
   "outputs": [],
   "source": [
    "route_path['edge_len_ft'] = route_path.geometry.length * 3.28084\n",
    "route_path['node_list'] = np.where((route_path.u < route_path.v), (route_path.u.astype(str) +'-'+ route_path.v.astype(str)), (route_path.v.astype(str) +'-'+ route_path.u.astype(str)))"
   ]
  },
  {
   "cell_type": "markdown",
   "id": "4e274747-1136-4071-924a-342268d04730",
   "metadata": {},
   "source": [
    "### Merge stop sequence"
   ]
  },
  {
   "cell_type": "code",
   "execution_count": 134,
   "id": "b8b3496f-4490-4bc8-9138-a98cabe66074",
   "metadata": {
    "execution": {
     "iopub.execute_input": "2022-01-05T19:48:56.850478Z",
     "iopub.status.busy": "2022-01-05T19:48:56.850478Z",
     "iopub.status.idle": "2022-01-05T19:48:56.858478Z",
     "shell.execute_reply": "2022-01-05T19:48:56.858478Z",
     "shell.execute_reply.started": "2022-01-05T19:48:56.850478Z"
    },
    "tags": []
   },
   "outputs": [],
   "source": [
    "def project_point_on_route_line(pt, route_line_geom):\n",
    "    \"\"\"\n",
    "    Projects a point on route line geometry.\n",
    "    \"\"\"\n",
    "    return (route_line_geom.interpolate(route_line_geom.project(pt)))\n",
    "\n",
    "def project_stops_on_route_line(stop_seq, route_line):\n",
    "    \"\"\"\n",
    "    Returns projected stops in route line.\n",
    "    \"\"\"\n",
    "    projected_stop_seq = stop_seq.copy().to_crs(CRS_METER)\n",
    "    projected_stop_seq['projected_pt'] = (projected_stop_seq.loc[:,['geometry']]\n",
    "                                          .apply(lambda x: project_point_on_route_line(x['geometry'], route_line), axis = 1))\n",
    "    projected_stop_seq['geometry'] = projected_stop_seq['projected_pt']\n",
    "    return projected_stop_seq.drop(columns = ['projected_pt'])"
   ]
  },
  {
   "cell_type": "code",
   "execution_count": 148,
   "id": "4070e59b-4c25-44bf-a3ae-35b6d5cfdf42",
   "metadata": {
    "execution": {
     "iopub.execute_input": "2022-01-05T19:55:07.031284Z",
     "iopub.status.busy": "2022-01-05T19:55:07.030284Z",
     "iopub.status.idle": "2022-01-05T19:55:07.136282Z",
     "shell.execute_reply": "2022-01-05T19:55:07.135323Z",
     "shell.execute_reply.started": "2022-01-05T19:55:07.031284Z"
    },
    "tags": []
   },
   "outputs": [],
   "source": [
    "route_stop_seq = project_stops_on_route_line(route_stop_seq, route_path.dissolve().geometry[0])\n",
    "\n",
    "route_path_buffer = route_path.copy()\n",
    "route_path_buffer['geometry'] = route_path.buffer(5)\n",
    "\n",
    "route_stop_seq_with_path = gpd.sjoin(route_stop_seq, route_path_buffer, how = 'left', predicate = 'within').drop_duplicates('stop_sequence')\n",
    "route_stop_seq_with_path = route_stop_seq_with_path[['stop_sequence', 'stopid', 'pattern_id', 'edge_code', 'edge_len_ft']]\n",
    "\n",
    "route_path_with_stops = route_path.merge(route_stop_seq_with_path, on = ['edge_code', 'edge_len_ft'], how = 'left')"
   ]
  },
  {
   "cell_type": "markdown",
   "id": "34b3dfbc-fda3-4913-b978-f5f6730635e2",
   "metadata": {},
   "source": [
    "### Create new columns"
   ]
  },
  {
   "cell_type": "code",
   "execution_count": 149,
   "id": "1aa69ee1-dde1-497b-a2f0-4e24ed5d56f1",
   "metadata": {
    "execution": {
     "iopub.execute_input": "2022-01-05T19:57:02.624142Z",
     "iopub.status.busy": "2022-01-05T19:57:02.624142Z",
     "iopub.status.idle": "2022-01-05T19:57:02.648437Z",
     "shell.execute_reply": "2022-01-05T19:57:02.647272Z",
     "shell.execute_reply.started": "2022-01-05T19:57:02.624142Z"
    },
    "tags": []
   },
   "outputs": [],
   "source": [
    "route_path_with_stops['from_stop_seq'] = np.where(route_path_with_stops['stop_sequence'].isna(), np.nan, route_path_with_stops['stop_sequence'])\n",
    "route_path_with_stops['from_stop_seq'] = route_path_with_stops['from_stop_seq'].fillna(method = 'ffill').astype(int)\n",
    "\n",
    "route_path_with_stops['to_stop_seq'] = route_path_with_stops['from_stop_seq'] + 1\n",
    "\n",
    "route_path_with_stops.loc[route_path_with_stops['edge_order'].index.max():, 'from_stop_seq'] = route_path_with_stops['from_stop_seq'] - 1\n",
    "route_path_with_stops.loc[route_path_with_stops['edge_order'].index.max():, 'to_stop_seq'] = route_path_with_stops['to_stop_seq'] - 1"
   ]
  },
  {
   "cell_type": "code",
   "execution_count": 151,
   "id": "4e3c9036-8371-4ff2-92b5-2f3d20b3866d",
   "metadata": {
    "execution": {
     "iopub.execute_input": "2022-01-05T19:59:23.095742Z",
     "iopub.status.busy": "2022-01-05T19:59:23.094485Z",
     "iopub.status.idle": "2022-01-05T19:59:23.124292Z",
     "shell.execute_reply": "2022-01-05T19:59:23.124292Z",
     "shell.execute_reply.started": "2022-01-05T19:59:23.095742Z"
    },
    "tags": []
   },
   "outputs": [],
   "source": [
    "route_path_with_stops = (route_path_with_stops.merge(route_stop_seq.rename(columns = {'stopid': 'from_stopid', 'stop_sequence' : 'from_stop_seq'})[['from_stopid', 'from_stop_seq']])\n",
    " .merge(route_stop_seq.rename(columns = {'stopid': 'to_stopid', 'stop_sequence' : 'to_stop_seq'})[['to_stopid', 'to_stop_seq']]))\n",
    "\n",
    "route_path_with_stops['from_node'] = route_path_with_stops['edge_code'].str.split('-', expand = True)[0]\n",
    "route_path_with_stops['to_node'] = route_path_with_stops['edge_code'].str.split('-', expand = True)[1]\n",
    "route_path_with_stops['link_code'] = route_path_with_stops['from_stopid'].astype(str) + '-' + route_path_with_stops['to_stopid'].astype(str)\n",
    "route_path_with_stops['pattern_id'] = route_pattern_id"
   ]
  },
  {
   "cell_type": "code",
   "execution_count": 155,
   "id": "cc9d9442-278e-4de9-bb35-f7f1e7d39300",
   "metadata": {
    "execution": {
     "iopub.execute_input": "2022-01-05T20:00:40.811449Z",
     "iopub.status.busy": "2022-01-05T20:00:40.811449Z",
     "iopub.status.idle": "2022-01-05T20:00:40.845701Z",
     "shell.execute_reply": "2022-01-05T20:00:40.845701Z",
     "shell.execute_reply.started": "2022-01-05T20:00:40.811449Z"
    },
    "tags": []
   },
   "outputs": [],
   "source": [
    "final_net_link = route_path_with_stops[['pattern_id', 'stop_sequence', 'stopid', \n",
    "                                       'edge_order', 'edge_code','edge_len_ft', \n",
    "                                        'from_node', 'to_node', 'geometry']].to_crs(CRS).fillna({'PATTERN_ID':route_pattern_id})"
   ]
  },
  {
   "cell_type": "code",
   "execution_count": 157,
   "id": "452c6db3-1358-477c-b441-0ef3f7b0d979",
   "metadata": {
    "execution": {
     "iopub.execute_input": "2022-01-05T20:02:40.914391Z",
     "iopub.status.busy": "2022-01-05T20:02:40.914391Z",
     "iopub.status.idle": "2022-01-05T20:02:40.997301Z",
     "shell.execute_reply": "2022-01-05T20:02:40.997301Z",
     "shell.execute_reply.started": "2022-01-05T20:02:40.914391Z"
    },
    "tags": []
   },
   "outputs": [],
   "source": [
    "final_net_link.to_file(os.path.join(data_dir, 'interim', f'{route_pattern_id}_FINAL_BUS_NET_LINKS.geojson'))"
   ]
  },
  {
   "cell_type": "code",
   "execution_count": null,
   "id": "8cd8ff7f-91a9-4166-ab63-cb3f9a028a63",
   "metadata": {},
   "outputs": [],
   "source": []
  },
  {
   "cell_type": "code",
   "execution_count": null,
   "id": "aa37ccfd-3807-4603-8a63-e2be529c6164",
   "metadata": {},
   "outputs": [],
   "source": []
  },
  {
   "cell_type": "code",
   "execution_count": null,
   "id": "144eefef-5856-48f0-b132-eaea57271747",
   "metadata": {},
   "outputs": [],
   "source": []
  },
  {
   "cell_type": "code",
   "execution_count": null,
   "id": "59e7c11f-2d7a-4a6f-92a8-59e1abc08590",
   "metadata": {},
   "outputs": [],
   "source": []
  }
 ],
 "metadata": {
  "kernelspec": {
   "display_name": "Python 3 (ipykernel)",
   "language": "python",
   "name": "python3"
  },
  "language_info": {
   "codemirror_mode": {
    "name": "ipython",
    "version": 3
   },
   "file_extension": ".py",
   "mimetype": "text/x-python",
   "name": "python",
   "nbconvert_exporter": "python",
   "pygments_lexer": "ipython3",
   "version": "3.8.12"
  }
 },
 "nbformat": 4,
 "nbformat_minor": 5
}
